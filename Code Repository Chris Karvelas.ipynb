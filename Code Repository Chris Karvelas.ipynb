{
 "cells": [
  {
   "cell_type": "markdown",
   "id": "9be54b7b-edfc-4798-bf39-b76092482907",
   "metadata": {},
   "source": [
    "# DATA 4010 Capstone Project Code Repository - Chris Karvelas\n",
    "The following contains representative examples of each specific operation/test performed during this project\n",
    "\n"
   ]
  },
  {
   "cell_type": "markdown",
   "id": "869c8232-7294-4a6c-94d1-9995618a31a3",
   "metadata": {},
   "source": [
    "## We will start by loading the required packages (grouped by which section they first appear)\n",
    "\n",
    "**Note:** The run-order values are not in perfect order, as edits were made to some of the quicker-to-run code chunks after initial running, this has **no** impact on running this code whatsoever."
   ]
  },
  {
   "cell_type": "code",
   "execution_count": 1,
   "id": "741e1650-c98f-4926-9e99-240f4810e2a0",
   "metadata": {},
   "outputs": [],
   "source": [
    "# 1) separating questions\n",
    "import time\n",
    "import shutil\n",
    "\n",
    "# 2) resizing data\n",
    "from PIL import Image\n",
    "import os\n",
    "from os import listdir\n",
    "\n",
    "# 3) pre-processing\n",
    "import pandas as pd\n",
    "import numpy as np \n",
    "import skimage \n",
    "from skimage.io import imread\n",
    "from sklearn.model_selection import train_test_split\n",
    "from itertools import chain\n",
    "\n",
    "# 4) KNN\n",
    "from sklearn.neighbors import KNeighborsClassifier\n",
    "from sklearn.model_selection import GridSearchCV\n",
    "\n",
    "\n",
    "# 5) confusion matrix\n",
    "import matplotlib.pyplot as plt\n",
    "from sklearn.metrics import confusion_matrix\n",
    "from sklearn import metrics\n",
    "from sklearn.metrics import confusion_matrix,ConfusionMatrixDisplay\n",
    "\n",
    "# 6) SVM\n",
    "from sklearn import svm\n",
    "from sklearn.svm import SVC\n",
    "\n",
    "# 7) CNN\n",
    "import tensorflow as tf\n",
    "from tensorflow.python import keras\n",
    "from keras.models import Sequential\n",
    "from keras.layers import Conv2D, MaxPooling2D, Dropout, Flatten, Dense, Activation, BatchNormalization\n",
    "import random\n",
    "from tensorflow.keras.preprocessing.image import load_img, img_to_array\n",
    "\n",
    "# 8) LLM\n",
    "import openai\n",
    "from openai import OpenAI\n"
   ]
  },
  {
   "cell_type": "markdown",
   "id": "903a6432-91c2-4a43-9206-c5bbd91eef60",
   "metadata": {},
   "source": [
    "# 1) Separating Images into Individual Questions"
   ]
  },
  {
   "cell_type": "markdown",
   "id": "eabaae58-6cff-4e41-8a1e-aed3b1a2cf65",
   "metadata": {},
   "source": [
    "Note, this section **will only run once** and only if the files have not yet been moved."
   ]
  },
  {
   "cell_type": "code",
   "execution_count": 47,
   "id": "e8f6df58-74c2-42a3-98d5-3ad9d965cfff",
   "metadata": {},
   "outputs": [
    {
     "name": "stdout",
     "output_type": "stream",
     "text": [
      "0.7889904975891113\n"
     ]
    }
   ],
   "source": [
    "start=time.time()# time the run\n",
    "\n",
    "# file path of desired folder to store the images\n",
    "\n",
    "dst_path = r\"C:\\Users\\CK\\Desktop\\DATA4010 Project\\Old Tests\\Winter 2023\\Winter2023\\Q9\\Full_Size\"\n",
    "# NOTE: since this action had already been performed, this destination folder simply holds a copy of each image. \n",
    "#This folder will not appear anywhere else.\n",
    "\n",
    "# in the repo, instead the \"Original\" or \"Resized\" folder will contain the images.\n",
    "\n",
    "# go based on modulo, if there are no scanning errors, you just need one range, \n",
    "# there are multiple ranges here due to scanning errors ranges will need to be adjusted depending on the dataset\n",
    "for i in range(1,2047):\n",
    "    if i%16==14:\n",
    "        if i !=414:\n",
    "        \n",
    "# file path of each image, W2023_ is part of each image name, str(i) provides the page number of the particular solution\n",
    "            src_path = r\"C:\\Users\\CK\\Desktop\\DATA4010 Project\\Old Tests\\Winter 2023\\Winter2023\\Tests\\W2023_\"+str(i)+\".jpg\"\n",
    "            shutil.move(src_path, dst_path)\n",
    "    elif i==416:\n",
    "        src_path = r\"C:\\Users\\CK\\Desktop\\DATA4010 Project\\Old Tests\\Winter 2023\\Winter2023\\Tests\\W2023_\"+str(i)+\".jpg\"\n",
    "        shutil.move(src_path, dst_path)\n",
    "        \n",
    "# NOTE, page 416 was an anomolous scanning that was out of order, but after its booklet the previous math did not change\n",
    "# We do not move page 414, as it is not a Q9 answer\n",
    "\n",
    "for i in range(2047,7855):\n",
    "     if i%16==12:\n",
    "        src_path = r\"C:\\Users\\CK\\Desktop\\DATA4010 Project\\Old Tests\\Winter 2023\\Winter2023\\Tests\\W2023_\"+str(i)+\".jpg\"\n",
    "        shutil.move(src_path, dst_path)\n",
    "\n",
    "for i in range(7855, 8177):\n",
    "      if i%16==14:\n",
    "        src_path = r\"C:\\Users\\CK\\Desktop\\DATA4010 Project\\Old Tests\\Winter 2023\\Winter2023\\Tests\\W2023_\"+str(i)+\".jpg\"\n",
    "        shutil.move(src_path, dst_path)\n",
    "end=time.time()\n",
    "\n",
    "print(end-start) #time elapsed (in seconds)\n",
    "#this is not the most efficient way of doing this, as we do not know how many pages are in the wrong order,\n",
    "# but this is a very fast process nonetheless"
   ]
  },
  {
   "cell_type": "markdown",
   "id": "08d69d4c-d089-4d17-b91b-8024b04d8f4b",
   "metadata": {},
   "source": [
    "# 2)  Second, we resize the images and convert to greyscale."
   ]
  },
  {
   "cell_type": "code",
   "execution_count": 4,
   "id": "d3e162e9-d072-4644-a7c1-59da958739d0",
   "metadata": {
    "scrolled": true
   },
   "outputs": [],
   "source": [
    "# file path of folder containing images\n",
    "folder_dir = r\"C:\\Users\\CK\\Desktop\\DATA4010 Project\\Old Tests\\Winter 2023\\Winter2023\\Q9\\Original\"\n",
    "\n",
    "\n",
    "for images in os.listdir(folder_dir):\n",
    "    im_direct=folder_dir+ \"\\\\\" + images\n",
    "    image = Image.open(im_direct).convert('L')# convert to greyscale to remove a dimension\n",
    "    new_image = image.resize((500, 640))\n",
    "    \n",
    "    # output folder file path, the \\\\ must stay at the end of the string\n",
    "    out_path=r\"C:\\Users\\CK\\Desktop\\DATA4010 Project\\Old Tests\\Winter 2023\\Winter2023\\Q9\\Resized\\\\\"+images\n",
    "    new_image.save(out_path)\n",
    "  "
   ]
  },
  {
   "cell_type": "markdown",
   "id": "afd1cbc4-a9d9-43f2-9d1d-73f3ccf5d27d",
   "metadata": {},
   "source": [
    "# 3) Now we can import the data into an array"
   ]
  },
  {
   "cell_type": "code",
   "execution_count": 6,
   "id": "526c7f60-4781-44b5-a977-3ec52117ba49",
   "metadata": {},
   "outputs": [],
   "source": [
    "# first approach to load in the images=> multiple ranges approach\n",
    "\n",
    "# file path of one image, to get dimensions\n",
    "im=skimage.io.imread(r\"C:\\Users\\CK\\Desktop\\DATA4010 Project\\Old Tests\\Winter 2023\\Winter2023\\Q9\\Resized\\W2023_14.jpg\")\n",
    "\n",
    "num_rows, num_cols = im.shape\n",
    "\n",
    "size=num_rows*num_cols\n",
    "data_full=np.empty(size, dtype='int')\n",
    "\n",
    "# make list of all numbers for files\n",
    "vals=list(chain(range(14,414,16),range(416,417),range(430,2047,16),range(2060,7855,16),range(7870, 8177,16)))\n",
    "\n",
    "# Since we now know the ranges where the values work, we can take every 16th value from each range (except for page 416)."
   ]
  },
  {
   "cell_type": "code",
   "execution_count": 7,
   "id": "929b15be-a0ce-4ad8-93c9-76baee6874fe",
   "metadata": {},
   "outputs": [],
   "source": [
    "# file path of the image, similar format to in 1)\n",
    "path1=r\"C:\\Users\\CK\\Desktop\\DATA4010 Project\\Old Tests\\Winter 2023\\Winter2023\\Q9\\Resized\\W2023_\"\n",
    "\n",
    "path3=\".jpg\"# filetype\n",
    "\n",
    "for x in vals:\n",
    "\n",
    "    path2=str(x)# get number of question\n",
    "\n",
    "    im=skimage.io.imread(path1+path2+path3)# read in the file name of each image\n",
    "\n",
    "    \n",
    "    im=np.reshape(im,size)# reshape it to a row vector\n",
    "    \n",
    "    if x==vals[0]:# if it's the first value, make it the first row\n",
    "        data_full=im\n",
    "    else:\n",
    "        data_full=A = np.vstack([data_full, im])# add the new image to the dataset as the next row\n"
   ]
  },
  {
   "cell_type": "markdown",
   "id": "63e57015-8b93-4182-a00f-5850246f7e81",
   "metadata": {},
   "source": [
    "# 4) Import Target Data"
   ]
  },
  {
   "cell_type": "code",
   "execution_count": 32,
   "id": "4d29f1ba-6129-40c5-8513-b1576a0f3850",
   "metadata": {},
   "outputs": [],
   "source": [
    "# dataset containing scores for the W2023 Final\n",
    "dataset=pd.read_excel(r\"C:\\Users\\CK\\Desktop\\DATA4010 Project\\w2023_Ordered.xlsx\")\n",
    "\n",
    "targ=dataset[\"Q9\"]# take the column of grades for target data\n",
    "\n",
    "# create new vector to hold binary data, in case we want to keep the original grades for future use\n",
    "target=np.zeros(len(targ))\n",
    "\n",
    "for i in range(0,len(targ)):# for Q9, do 0/4 vs >0/4\n",
    "    \n",
    "    if targ[i]!=0:# if not zero, make it 1\n",
    "        target[i]=1"
   ]
  },
  {
   "cell_type": "code",
   "execution_count": 24,
   "id": "ca195d95-826a-41b6-a3c5-b000f48ef4fb",
   "metadata": {},
   "outputs": [],
   "source": [
    "# get 80-20 train_test_split\n",
    "X_train,X_test,y_train,y_test=train_test_split(data_full,target, \n",
    "                                               test_size=0.2, random_state=69)"
   ]
  },
  {
   "cell_type": "markdown",
   "id": "2ec54322-2081-4884-8ea5-b6b9b1306af5",
   "metadata": {},
   "source": [
    "# 5) Model 1: KNN"
   ]
  },
  {
   "cell_type": "code",
   "execution_count": 26,
   "id": "09dcfa98-21c5-4aa4-9fb0-2b5923ca23a7",
   "metadata": {
    "scrolled": true
   },
   "outputs": [
    {
     "name": "stdout",
     "output_type": "stream",
     "text": [
      "Fitting 10 folds for each of 18 candidates, totalling 180 fits\n",
      "[CV] END .....................n_neighbors=1, weights=uniform; total time=   1.9s\n",
      "[CV] END .....................n_neighbors=1, weights=uniform; total time=   0.7s\n",
      "[CV] END .....................n_neighbors=1, weights=uniform; total time=   0.7s\n",
      "[CV] END .....................n_neighbors=1, weights=uniform; total time=   0.7s\n",
      "[CV] END .....................n_neighbors=1, weights=uniform; total time=   0.6s\n",
      "[CV] END .....................n_neighbors=1, weights=uniform; total time=   0.6s\n",
      "[CV] END .....................n_neighbors=1, weights=uniform; total time=   0.6s\n",
      "[CV] END .....................n_neighbors=1, weights=uniform; total time=   0.7s\n",
      "[CV] END .....................n_neighbors=1, weights=uniform; total time=   0.6s\n",
      "[CV] END .....................n_neighbors=1, weights=uniform; total time=   0.6s\n",
      "[CV] END ....................n_neighbors=1, weights=distance; total time=   0.7s\n",
      "[CV] END ....................n_neighbors=1, weights=distance; total time=   0.6s\n",
      "[CV] END ....................n_neighbors=1, weights=distance; total time=   0.6s\n",
      "[CV] END ....................n_neighbors=1, weights=distance; total time=   0.6s\n",
      "[CV] END ....................n_neighbors=1, weights=distance; total time=   0.6s\n",
      "[CV] END ....................n_neighbors=1, weights=distance; total time=   0.6s\n",
      "[CV] END ....................n_neighbors=1, weights=distance; total time=   0.6s\n",
      "[CV] END ....................n_neighbors=1, weights=distance; total time=   0.6s\n",
      "[CV] END ....................n_neighbors=1, weights=distance; total time=   0.6s\n",
      "[CV] END ....................n_neighbors=1, weights=distance; total time=   0.6s\n",
      "[CV] END .....................n_neighbors=2, weights=uniform; total time=   0.7s\n",
      "[CV] END .....................n_neighbors=2, weights=uniform; total time=   0.7s\n",
      "[CV] END .....................n_neighbors=2, weights=uniform; total time=   0.6s\n",
      "[CV] END .....................n_neighbors=2, weights=uniform; total time=   0.6s\n",
      "[CV] END .....................n_neighbors=2, weights=uniform; total time=   0.6s\n",
      "[CV] END .....................n_neighbors=2, weights=uniform; total time=   0.7s\n",
      "[CV] END .....................n_neighbors=2, weights=uniform; total time=   0.6s\n",
      "[CV] END .....................n_neighbors=2, weights=uniform; total time=   0.6s\n",
      "[CV] END .....................n_neighbors=2, weights=uniform; total time=   0.6s\n",
      "[CV] END .....................n_neighbors=2, weights=uniform; total time=   0.6s\n",
      "[CV] END ....................n_neighbors=2, weights=distance; total time=   0.7s\n",
      "[CV] END ....................n_neighbors=2, weights=distance; total time=   0.6s\n",
      "[CV] END ....................n_neighbors=2, weights=distance; total time=   0.7s\n",
      "[CV] END ....................n_neighbors=2, weights=distance; total time=   0.7s\n",
      "[CV] END ....................n_neighbors=2, weights=distance; total time=   0.7s\n",
      "[CV] END ....................n_neighbors=2, weights=distance; total time=   0.6s\n",
      "[CV] END ....................n_neighbors=2, weights=distance; total time=   0.5s\n",
      "[CV] END ....................n_neighbors=2, weights=distance; total time=   0.6s\n",
      "[CV] END ....................n_neighbors=2, weights=distance; total time=   0.5s\n",
      "[CV] END ....................n_neighbors=2, weights=distance; total time=   0.5s\n",
      "[CV] END .....................n_neighbors=3, weights=uniform; total time=   0.5s\n",
      "[CV] END .....................n_neighbors=3, weights=uniform; total time=   0.5s\n",
      "[CV] END .....................n_neighbors=3, weights=uniform; total time=   0.5s\n",
      "[CV] END .....................n_neighbors=3, weights=uniform; total time=   0.5s\n",
      "[CV] END .....................n_neighbors=3, weights=uniform; total time=   0.5s\n",
      "[CV] END .....................n_neighbors=3, weights=uniform; total time=   0.5s\n",
      "[CV] END .....................n_neighbors=3, weights=uniform; total time=   0.5s\n",
      "[CV] END .....................n_neighbors=3, weights=uniform; total time=   0.5s\n",
      "[CV] END .....................n_neighbors=3, weights=uniform; total time=   0.5s\n",
      "[CV] END .....................n_neighbors=3, weights=uniform; total time=   0.5s\n",
      "[CV] END ....................n_neighbors=3, weights=distance; total time=   0.6s\n",
      "[CV] END ....................n_neighbors=3, weights=distance; total time=   0.6s\n",
      "[CV] END ....................n_neighbors=3, weights=distance; total time=   0.5s\n",
      "[CV] END ....................n_neighbors=3, weights=distance; total time=   0.6s\n",
      "[CV] END ....................n_neighbors=3, weights=distance; total time=   0.6s\n",
      "[CV] END ....................n_neighbors=3, weights=distance; total time=   0.6s\n",
      "[CV] END ....................n_neighbors=3, weights=distance; total time=   0.6s\n",
      "[CV] END ....................n_neighbors=3, weights=distance; total time=   0.6s\n",
      "[CV] END ....................n_neighbors=3, weights=distance; total time=   0.5s\n",
      "[CV] END ....................n_neighbors=3, weights=distance; total time=   0.5s\n",
      "[CV] END .....................n_neighbors=4, weights=uniform; total time=   0.5s\n",
      "[CV] END .....................n_neighbors=4, weights=uniform; total time=   0.5s\n",
      "[CV] END .....................n_neighbors=4, weights=uniform; total time=   0.5s\n",
      "[CV] END .....................n_neighbors=4, weights=uniform; total time=   0.5s\n",
      "[CV] END .....................n_neighbors=4, weights=uniform; total time=   0.5s\n",
      "[CV] END .....................n_neighbors=4, weights=uniform; total time=   0.5s\n",
      "[CV] END .....................n_neighbors=4, weights=uniform; total time=   0.6s\n",
      "[CV] END .....................n_neighbors=4, weights=uniform; total time=   0.5s\n",
      "[CV] END .....................n_neighbors=4, weights=uniform; total time=   0.5s\n",
      "[CV] END .....................n_neighbors=4, weights=uniform; total time=   0.5s\n",
      "[CV] END ....................n_neighbors=4, weights=distance; total time=   0.5s\n",
      "[CV] END ....................n_neighbors=4, weights=distance; total time=   0.5s\n",
      "[CV] END ....................n_neighbors=4, weights=distance; total time=   0.5s\n",
      "[CV] END ....................n_neighbors=4, weights=distance; total time=   0.5s\n",
      "[CV] END ....................n_neighbors=4, weights=distance; total time=   0.5s\n",
      "[CV] END ....................n_neighbors=4, weights=distance; total time=   0.5s\n",
      "[CV] END ....................n_neighbors=4, weights=distance; total time=   0.5s\n",
      "[CV] END ....................n_neighbors=4, weights=distance; total time=   0.5s\n",
      "[CV] END ....................n_neighbors=4, weights=distance; total time=   0.5s\n",
      "[CV] END ....................n_neighbors=4, weights=distance; total time=   0.5s\n",
      "[CV] END .....................n_neighbors=5, weights=uniform; total time=   0.6s\n",
      "[CV] END .....................n_neighbors=5, weights=uniform; total time=   0.6s\n",
      "[CV] END .....................n_neighbors=5, weights=uniform; total time=   0.6s\n",
      "[CV] END .....................n_neighbors=5, weights=uniform; total time=   0.5s\n",
      "[CV] END .....................n_neighbors=5, weights=uniform; total time=   0.5s\n",
      "[CV] END .....................n_neighbors=5, weights=uniform; total time=   0.6s\n",
      "[CV] END .....................n_neighbors=5, weights=uniform; total time=   0.5s\n",
      "[CV] END .....................n_neighbors=5, weights=uniform; total time=   0.5s\n",
      "[CV] END .....................n_neighbors=5, weights=uniform; total time=   0.5s\n",
      "[CV] END .....................n_neighbors=5, weights=uniform; total time=   0.5s\n",
      "[CV] END ....................n_neighbors=5, weights=distance; total time=   0.5s\n",
      "[CV] END ....................n_neighbors=5, weights=distance; total time=   0.5s\n",
      "[CV] END ....................n_neighbors=5, weights=distance; total time=   0.5s\n",
      "[CV] END ....................n_neighbors=5, weights=distance; total time=   0.5s\n",
      "[CV] END ....................n_neighbors=5, weights=distance; total time=   0.5s\n",
      "[CV] END ....................n_neighbors=5, weights=distance; total time=   0.5s\n",
      "[CV] END ....................n_neighbors=5, weights=distance; total time=   0.5s\n",
      "[CV] END ....................n_neighbors=5, weights=distance; total time=   0.5s\n",
      "[CV] END ....................n_neighbors=5, weights=distance; total time=   0.5s\n",
      "[CV] END ....................n_neighbors=5, weights=distance; total time=   0.5s\n",
      "[CV] END .....................n_neighbors=6, weights=uniform; total time=   0.5s\n",
      "[CV] END .....................n_neighbors=6, weights=uniform; total time=   0.6s\n",
      "[CV] END .....................n_neighbors=6, weights=uniform; total time=   0.6s\n",
      "[CV] END .....................n_neighbors=6, weights=uniform; total time=   0.6s\n",
      "[CV] END .....................n_neighbors=6, weights=uniform; total time=   0.7s\n",
      "[CV] END .....................n_neighbors=6, weights=uniform; total time=   0.6s\n",
      "[CV] END .....................n_neighbors=6, weights=uniform; total time=   0.6s\n",
      "[CV] END .....................n_neighbors=6, weights=uniform; total time=   0.5s\n",
      "[CV] END .....................n_neighbors=6, weights=uniform; total time=   0.5s\n",
      "[CV] END .....................n_neighbors=6, weights=uniform; total time=   0.5s\n",
      "[CV] END ....................n_neighbors=6, weights=distance; total time=   0.6s\n",
      "[CV] END ....................n_neighbors=6, weights=distance; total time=   0.5s\n",
      "[CV] END ....................n_neighbors=6, weights=distance; total time=   0.6s\n",
      "[CV] END ....................n_neighbors=6, weights=distance; total time=   0.5s\n",
      "[CV] END ....................n_neighbors=6, weights=distance; total time=   0.6s\n",
      "[CV] END ....................n_neighbors=6, weights=distance; total time=   0.5s\n",
      "[CV] END ....................n_neighbors=6, weights=distance; total time=   0.5s\n",
      "[CV] END ....................n_neighbors=6, weights=distance; total time=   0.5s\n",
      "[CV] END ....................n_neighbors=6, weights=distance; total time=   0.5s\n",
      "[CV] END ....................n_neighbors=6, weights=distance; total time=   0.5s\n",
      "[CV] END .....................n_neighbors=7, weights=uniform; total time=   0.5s\n",
      "[CV] END .....................n_neighbors=7, weights=uniform; total time=   0.5s\n",
      "[CV] END .....................n_neighbors=7, weights=uniform; total time=   0.6s\n",
      "[CV] END .....................n_neighbors=7, weights=uniform; total time=   0.5s\n",
      "[CV] END .....................n_neighbors=7, weights=uniform; total time=   0.6s\n",
      "[CV] END .....................n_neighbors=7, weights=uniform; total time=   0.5s\n",
      "[CV] END .....................n_neighbors=7, weights=uniform; total time=   0.6s\n",
      "[CV] END .....................n_neighbors=7, weights=uniform; total time=   0.6s\n",
      "[CV] END .....................n_neighbors=7, weights=uniform; total time=   0.6s\n",
      "[CV] END .....................n_neighbors=7, weights=uniform; total time=   0.7s\n",
      "[CV] END ....................n_neighbors=7, weights=distance; total time=   0.6s\n",
      "[CV] END ....................n_neighbors=7, weights=distance; total time=   0.7s\n",
      "[CV] END ....................n_neighbors=7, weights=distance; total time=   0.6s\n",
      "[CV] END ....................n_neighbors=7, weights=distance; total time=   0.5s\n",
      "[CV] END ....................n_neighbors=7, weights=distance; total time=   0.6s\n",
      "[CV] END ....................n_neighbors=7, weights=distance; total time=   0.5s\n",
      "[CV] END ....................n_neighbors=7, weights=distance; total time=   0.5s\n",
      "[CV] END ....................n_neighbors=7, weights=distance; total time=   0.5s\n",
      "[CV] END ....................n_neighbors=7, weights=distance; total time=   0.5s\n",
      "[CV] END ....................n_neighbors=7, weights=distance; total time=   0.5s\n",
      "[CV] END .....................n_neighbors=8, weights=uniform; total time=   0.5s\n",
      "[CV] END .....................n_neighbors=8, weights=uniform; total time=   0.6s\n",
      "[CV] END .....................n_neighbors=8, weights=uniform; total time=   0.5s\n",
      "[CV] END .....................n_neighbors=8, weights=uniform; total time=   0.5s\n",
      "[CV] END .....................n_neighbors=8, weights=uniform; total time=   0.5s\n",
      "[CV] END .....................n_neighbors=8, weights=uniform; total time=   0.6s\n",
      "[CV] END .....................n_neighbors=8, weights=uniform; total time=   0.5s\n",
      "[CV] END .....................n_neighbors=8, weights=uniform; total time=   0.5s\n",
      "[CV] END .....................n_neighbors=8, weights=uniform; total time=   0.5s\n",
      "[CV] END .....................n_neighbors=8, weights=uniform; total time=   0.5s\n",
      "[CV] END ....................n_neighbors=8, weights=distance; total time=   0.5s\n",
      "[CV] END ....................n_neighbors=8, weights=distance; total time=   0.5s\n",
      "[CV] END ....................n_neighbors=8, weights=distance; total time=   0.6s\n",
      "[CV] END ....................n_neighbors=8, weights=distance; total time=   0.6s\n",
      "[CV] END ....................n_neighbors=8, weights=distance; total time=   0.6s\n",
      "[CV] END ....................n_neighbors=8, weights=distance; total time=   0.6s\n",
      "[CV] END ....................n_neighbors=8, weights=distance; total time=   0.5s\n",
      "[CV] END ....................n_neighbors=8, weights=distance; total time=   0.5s\n",
      "[CV] END ....................n_neighbors=8, weights=distance; total time=   0.5s\n",
      "[CV] END ....................n_neighbors=8, weights=distance; total time=   0.5s\n",
      "[CV] END .....................n_neighbors=9, weights=uniform; total time=   0.5s\n",
      "[CV] END .....................n_neighbors=9, weights=uniform; total time=   0.5s\n",
      "[CV] END .....................n_neighbors=9, weights=uniform; total time=   0.5s\n",
      "[CV] END .....................n_neighbors=9, weights=uniform; total time=   0.5s\n",
      "[CV] END .....................n_neighbors=9, weights=uniform; total time=   0.5s\n",
      "[CV] END .....................n_neighbors=9, weights=uniform; total time=   0.5s\n",
      "[CV] END .....................n_neighbors=9, weights=uniform; total time=   0.5s\n",
      "[CV] END .....................n_neighbors=9, weights=uniform; total time=   0.5s\n",
      "[CV] END .....................n_neighbors=9, weights=uniform; total time=   0.5s\n",
      "[CV] END .....................n_neighbors=9, weights=uniform; total time=   0.5s\n",
      "[CV] END ....................n_neighbors=9, weights=distance; total time=   0.5s\n",
      "[CV] END ....................n_neighbors=9, weights=distance; total time=   0.5s\n",
      "[CV] END ....................n_neighbors=9, weights=distance; total time=   0.5s\n",
      "[CV] END ....................n_neighbors=9, weights=distance; total time=   0.5s\n",
      "[CV] END ....................n_neighbors=9, weights=distance; total time=   0.5s\n",
      "[CV] END ....................n_neighbors=9, weights=distance; total time=   0.5s\n",
      "[CV] END ....................n_neighbors=9, weights=distance; total time=   0.5s\n",
      "[CV] END ....................n_neighbors=9, weights=distance; total time=   0.6s\n",
      "[CV] END ....................n_neighbors=9, weights=distance; total time=   0.6s\n",
      "[CV] END ....................n_neighbors=9, weights=distance; total time=   0.5s\n",
      "120.82104539871216\n"
     ]
    }
   ],
   "source": [
    "start=time.time()\n",
    "knn=KNeighborsClassifier()# define the classifier\n",
    "k_range=list(range(1,10))# check all numbers from 1-9 inclusive\n",
    "\n",
    "param_grid = {'n_neighbors': k_range,\n",
    "              'weights':['uniform','distance'],# define the possible hyperparameters\n",
    "}\n",
    "grid=GridSearchCV(knn, param_grid, cv=10, scoring='accuracy',verbose=2)# run the search, focus on accuracy\n",
    "grid_search_written=grid.fit(X_train,y_train)# fit the model from the search on the training data\n",
    "end=time.time()\n",
    "\n",
    "print(end-start)"
   ]
  },
  {
   "cell_type": "code",
   "execution_count": 27,
   "id": "a1defe9c-1ace-4b0d-bdaf-248e5ae42a76",
   "metadata": {},
   "outputs": [
    {
     "data": {
      "text/plain": [
       "{'n_neighbors': 4, 'weights': 'uniform'}"
      ]
     },
     "execution_count": 27,
     "metadata": {},
     "output_type": "execute_result"
    }
   ],
   "source": [
    "grid.best_params_# view the best parameters"
   ]
  },
  {
   "cell_type": "code",
   "execution_count": 28,
   "id": "d3535478-d2c6-4c24-8764-057f9ba48dba",
   "metadata": {},
   "outputs": [
    {
     "name": "stdout",
     "output_type": "stream",
     "text": [
      "2.1243200302124023\n"
     ]
    }
   ],
   "source": [
    "start=time.time()\n",
    "clf_KNN_written=grid.best_estimator_# use the parameters to get the metric scores\n",
    "\n",
    "y_pred=clf_KNN_written.predict(X_test)# get the predictions from the best model\n",
    "\n",
    "clf_KNN_written.score(X_test,y_test)# get the accuracy\n",
    "end=time.time()\n",
    "\n",
    "print(end-start)\n"
   ]
  },
  {
   "cell_type": "code",
   "execution_count": 29,
   "id": "fa74c501-0e82-4c6e-bee6-04b77897117e",
   "metadata": {},
   "outputs": [
    {
     "data": {
      "image/png": "[encoded data removed]",
      "text/plain": [
       "<Figure size 640x480 with 2 Axes>"
      ]
     },
     "metadata": {},
     "output_type": "display_data"
    }
   ],
   "source": [
    "confusion_matrix = metrics.confusion_matrix(y_test, y_pred)# get the values for the confusion matrix\n",
    "\n",
    "# create the plot\n",
    "cm_display = metrics.ConfusionMatrixDisplay(confusion_matrix = confusion_matrix, display_labels = [0, 1])\n",
    "\n",
    "cm_display.plot()# show the plot\n",
    "plt.show() "
   ]
  },
  {
   "cell_type": "markdown",
   "id": "4c9e5a3d-a916-4be8-85f2-9bea9d674b4e",
   "metadata": {},
   "source": [
    "# 6) Model 2: SVM"
   ]
  },
  {
   "cell_type": "markdown",
   "id": "ff6292a6-a863-4bae-b7f6-8a00de7c1c00",
   "metadata": {},
   "source": [
    "## Using S2023 data\n",
    "So we repeat previous loading scheme"
   ]
  },
  {
   "cell_type": "code",
   "execution_count": 9,
   "id": "2fb471c3-0fff-421e-a6fb-286334b81cb3",
   "metadata": {
    "scrolled": true
   },
   "outputs": [
    {
     "data": {
      "text/plain": [
       "['001', '002', '003', '004', '005', '006']"
      ]
     },
     "execution_count": 9,
     "metadata": {},
     "output_type": "execute_result"
    }
   ],
   "source": [
    "# second approach to loading in the images:=> sequential numbering method \n",
    "\n",
    "# the data has already been organized by question, following the same process as in 1)\n",
    "vals = []\n",
    "\n",
    "# we had renamed the values to do this, the W2023 shows how to do it without renaming the files\n",
    "for i in range(1, 253):\n",
    "    number = \"{:03d}\".format(i)# each spot had 3 digits\n",
    "    vals.append(number)\n",
    "vals[0:6]# display how the names look"
   ]
  },
  {
   "cell_type": "code",
   "execution_count": 48,
   "id": "2d06c4ed-e7d6-44a3-a499-0b84ee9da307",
   "metadata": {},
   "outputs": [],
   "source": [
    "# file path of any one image, to get the dimensions\n",
    "im=skimage.io.imread(\n",
    "    r\"C:\\Users\\CK\\Desktop\\DATA4010 Project\\Old Tests\\Crowdmark\\Ungraded\\Finals\\Questions\\Q2\\Resized\\All Resized\\001.jpg\")\n",
    "num_rows, num_cols = im.shape\n",
    "\n",
    "size=num_rows*num_cols\n",
    "data_full=np.empty(size, dtype='int')\n"
   ]
  },
  {
   "cell_type": "code",
   "execution_count": 103,
   "id": "9c2cd190-6330-4727-a648-3d7d01e921f7",
   "metadata": {},
   "outputs": [],
   "source": [
    "# destination folder of image, the \\\\ must stay there\n",
    "path1=r\"C:\\Users\\CK\\Desktop\\DATA4010 Project\\Old Tests\\Crowdmark\\Ungraded\\Finals\\Questions\\Q2\\Resized\\All Resized\\\\\"\n",
    "\n",
    "path3=\".jpg\"\n",
    "\n",
    "\n",
    "for x in vals:\n",
    "\n",
    "    path2=str(x)\n",
    "    im=skimage.io.imread(path1+path2+path3)# read in the file\n",
    "    \n",
    "    im=np.reshape(im,size)\n",
    "    if x==vals[0]:\n",
    "        data_full=im\n",
    "    else:\n",
    "        data_full = np.vstack([data_full, im])"
   ]
  },
  {
   "cell_type": "code",
   "execution_count": 111,
   "id": "39d4770f-459c-4dcc-bae2-dbfa6dff6c3b",
   "metadata": {},
   "outputs": [],
   "source": [
    "# dataset containing the scores for the S2023 Final\n",
    "dataset=pd.read_excel(r\"C:\\Users\\CK\\Desktop\\DATA4010 Project\\Exams and results - ordered.xlsx\")\n",
    "targ=dataset['23smath1500final Q2']# take the columns of grades for Q2\n"
   ]
  },
  {
   "cell_type": "code",
   "execution_count": 136,
   "id": "29db2f53-7e10-42c8-b26c-2d8be4449103",
   "metadata": {},
   "outputs": [
    {
     "data": {
      "text/plain": [
       "(252,)"
      ]
     },
     "execution_count": 136,
     "metadata": {},
     "output_type": "execute_result"
    }
   ],
   "source": [
    "targetS=np.zeros(len(targ))# create copy that we will adjust\n",
    "\n",
    "for i in range(0,len(targ)):# for Q2, do 4/4 vs <4/4\n",
    "    if targ[i]==4:\n",
    "        targetS[i]=1\n",
    "\n",
    "        "
   ]
  },
  {
   "cell_type": "code",
   "execution_count": 137,
   "id": "60140095-fa2c-43ff-97db-707707478a8b",
   "metadata": {},
   "outputs": [],
   "source": [
    "X_trainS,X_testS,y_trainS,y_testS=train_test_split(data_full,target, \n",
    "                                                   test_size=0.2, random_state=69)"
   ]
  },
  {
   "cell_type": "code",
   "execution_count": 138,
   "id": "41fd4729-c61c-4d6d-b405-2e46a6dc8b6c",
   "metadata": {
    "scrolled": true
   },
   "outputs": [
    {
     "name": "stdout",
     "output_type": "stream",
     "text": [
      "Fitting 10 folds for each of 18 candidates, totalling 180 fits\n",
      "[CV] END .......................C=1, degree=1, kernel=linear; total time=   1.1s\n",
      "[CV] END .......................C=1, degree=1, kernel=linear; total time=   1.1s\n",
      "[CV] END .......................C=1, degree=1, kernel=linear; total time=   1.2s\n",
      "[CV] END .......................C=1, degree=1, kernel=linear; total time=   1.2s\n",
      "[CV] END .......................C=1, degree=1, kernel=linear; total time=   1.3s\n",
      "[CV] END .......................C=1, degree=1, kernel=linear; total time=   1.3s\n",
      "[CV] END .......................C=1, degree=1, kernel=linear; total time=   1.5s\n",
      "[CV] END .......................C=1, degree=1, kernel=linear; total time=   1.2s\n",
      "[CV] END .......................C=1, degree=1, kernel=linear; total time=   1.3s\n",
      "[CV] END .......................C=1, degree=1, kernel=linear; total time=   1.3s\n",
      "[CV] END .........................C=1, degree=1, kernel=poly; total time=   1.3s\n",
      "[CV] END .........................C=1, degree=1, kernel=poly; total time=   1.2s\n",
      "[CV] END .........................C=1, degree=1, kernel=poly; total time=   1.0s\n",
      "[CV] END .........................C=1, degree=1, kernel=poly; total time=   1.0s\n",
      "[CV] END .........................C=1, degree=1, kernel=poly; total time=   1.1s\n",
      "[CV] END .........................C=1, degree=1, kernel=poly; total time=   1.1s\n",
      "[CV] END .........................C=1, degree=1, kernel=poly; total time=   1.0s\n",
      "[CV] END .........................C=1, degree=1, kernel=poly; total time=   1.0s\n",
      "[CV] END .........................C=1, degree=1, kernel=poly; total time=   1.0s\n",
      "[CV] END .........................C=1, degree=1, kernel=poly; total time=   1.2s\n",
      "[CV] END .......................C=1, degree=2, kernel=linear; total time=   1.2s\n",
      "[CV] END .......................C=1, degree=2, kernel=linear; total time=   1.4s\n",
      "[CV] END .......................C=1, degree=2, kernel=linear; total time=   1.3s\n",
      "[CV] END .......................C=1, degree=2, kernel=linear; total time=   1.5s\n",
      "[CV] END .......................C=1, degree=2, kernel=linear; total time=   1.0s\n",
      "[CV] END .......................C=1, degree=2, kernel=linear; total time=   1.1s\n",
      "[CV] END .......................C=1, degree=2, kernel=linear; total time=   1.5s\n",
      "[CV] END .......................C=1, degree=2, kernel=linear; total time=   1.2s\n",
      "[CV] END .......................C=1, degree=2, kernel=linear; total time=   1.2s\n",
      "[CV] END .......................C=1, degree=2, kernel=linear; total time=   1.4s\n",
      "[CV] END .........................C=1, degree=2, kernel=poly; total time=   1.0s\n",
      "[CV] END .........................C=1, degree=2, kernel=poly; total time=   1.4s\n",
      "[CV] END .........................C=1, degree=2, kernel=poly; total time=   1.3s\n",
      "[CV] END .........................C=1, degree=2, kernel=poly; total time=   1.3s\n",
      "[CV] END .........................C=1, degree=2, kernel=poly; total time=   1.8s\n",
      "[CV] END .........................C=1, degree=2, kernel=poly; total time=   1.3s\n",
      "[CV] END .........................C=1, degree=2, kernel=poly; total time=   1.0s\n",
      "[CV] END .........................C=1, degree=2, kernel=poly; total time=   1.0s\n",
      "[CV] END .........................C=1, degree=2, kernel=poly; total time=   1.2s\n",
      "[CV] END .........................C=1, degree=2, kernel=poly; total time=   1.1s\n",
      "[CV] END .......................C=1, degree=3, kernel=linear; total time=   1.2s\n",
      "[CV] END .......................C=1, degree=3, kernel=linear; total time=   1.1s\n",
      "[CV] END .......................C=1, degree=3, kernel=linear; total time=   1.4s\n",
      "[CV] END .......................C=1, degree=3, kernel=linear; total time=   1.0s\n",
      "[CV] END .......................C=1, degree=3, kernel=linear; total time=   1.3s\n",
      "[CV] END .......................C=1, degree=3, kernel=linear; total time=   1.1s\n",
      "[CV] END .......................C=1, degree=3, kernel=linear; total time=   1.2s\n",
      "[CV] END .......................C=1, degree=3, kernel=linear; total time=   1.1s\n",
      "[CV] END .......................C=1, degree=3, kernel=linear; total time=   1.0s\n",
      "[CV] END .......................C=1, degree=3, kernel=linear; total time=   1.0s\n",
      "[CV] END .........................C=1, degree=3, kernel=poly; total time=   1.3s\n",
      "[CV] END .........................C=1, degree=3, kernel=poly; total time=   1.3s\n",
      "[CV] END .........................C=1, degree=3, kernel=poly; total time=   1.0s\n",
      "[CV] END .........................C=1, degree=3, kernel=poly; total time=   1.2s\n",
      "[CV] END .........................C=1, degree=3, kernel=poly; total time=   1.4s\n",
      "[CV] END .........................C=1, degree=3, kernel=poly; total time=   1.0s\n",
      "[CV] END .........................C=1, degree=3, kernel=poly; total time=   1.3s\n",
      "[CV] END .........................C=1, degree=3, kernel=poly; total time=   1.2s\n",
      "[CV] END .........................C=1, degree=3, kernel=poly; total time=   1.3s\n",
      "[CV] END .........................C=1, degree=3, kernel=poly; total time=   1.6s\n",
      "[CV] END .....................C=0.5, degree=1, kernel=linear; total time=   1.0s\n",
      "[CV] END .....................C=0.5, degree=1, kernel=linear; total time=   1.2s\n",
      "[CV] END .....................C=0.5, degree=1, kernel=linear; total time=   1.4s\n",
      "[CV] END .....................C=0.5, degree=1, kernel=linear; total time=   1.0s\n",
      "[CV] END .....................C=0.5, degree=1, kernel=linear; total time=   1.5s\n",
      "[CV] END .....................C=0.5, degree=1, kernel=linear; total time=   1.2s\n",
      "[CV] END .....................C=0.5, degree=1, kernel=linear; total time=   1.0s\n",
      "[CV] END .....................C=0.5, degree=1, kernel=linear; total time=   1.0s\n",
      "[CV] END .....................C=0.5, degree=1, kernel=linear; total time=   1.0s\n",
      "[CV] END .....................C=0.5, degree=1, kernel=linear; total time=   1.2s\n",
      "[CV] END .......................C=0.5, degree=1, kernel=poly; total time=   1.1s\n",
      "[CV] END .......................C=0.5, degree=1, kernel=poly; total time=   1.2s\n",
      "[CV] END .......................C=0.5, degree=1, kernel=poly; total time=   1.1s\n",
      "[CV] END .......................C=0.5, degree=1, kernel=poly; total time=   1.2s\n",
      "[CV] END .......................C=0.5, degree=1, kernel=poly; total time=   0.9s\n",
      "[CV] END .......................C=0.5, degree=1, kernel=poly; total time=   0.9s\n",
      "[CV] END .......................C=0.5, degree=1, kernel=poly; total time=   0.9s\n",
      "[CV] END .......................C=0.5, degree=1, kernel=poly; total time=   1.1s\n",
      "[CV] END .......................C=0.5, degree=1, kernel=poly; total time=   1.1s\n",
      "[CV] END .......................C=0.5, degree=1, kernel=poly; total time=   1.1s\n",
      "[CV] END .....................C=0.5, degree=2, kernel=linear; total time=   1.0s\n",
      "[CV] END .....................C=0.5, degree=2, kernel=linear; total time=   1.0s\n",
      "[CV] END .....................C=0.5, degree=2, kernel=linear; total time=   1.8s\n",
      "[CV] END .....................C=0.5, degree=2, kernel=linear; total time=   1.4s\n",
      "[CV] END .....................C=0.5, degree=2, kernel=linear; total time=   1.2s\n",
      "[CV] END .....................C=0.5, degree=2, kernel=linear; total time=   1.1s\n",
      "[CV] END .....................C=0.5, degree=2, kernel=linear; total time=   1.3s\n",
      "[CV] END .....................C=0.5, degree=2, kernel=linear; total time=   1.2s\n",
      "[CV] END .....................C=0.5, degree=2, kernel=linear; total time=   1.2s\n",
      "[CV] END .....................C=0.5, degree=2, kernel=linear; total time=   1.5s\n",
      "[CV] END .......................C=0.5, degree=2, kernel=poly; total time=   1.2s\n",
      "[CV] END .......................C=0.5, degree=2, kernel=poly; total time=   1.4s\n",
      "[CV] END .......................C=0.5, degree=2, kernel=poly; total time=   1.6s\n",
      "[CV] END .......................C=0.5, degree=2, kernel=poly; total time=   1.7s\n",
      "[CV] END .......................C=0.5, degree=2, kernel=poly; total time=   2.5s\n",
      "[CV] END .......................C=0.5, degree=2, kernel=poly; total time=   3.0s\n",
      "[CV] END .......................C=0.5, degree=2, kernel=poly; total time=   3.2s\n",
      "[CV] END .......................C=0.5, degree=2, kernel=poly; total time=   2.0s\n",
      "[CV] END .......................C=0.5, degree=2, kernel=poly; total time=   1.7s\n",
      "[CV] END .......................C=0.5, degree=2, kernel=poly; total time=   1.3s\n",
      "[CV] END .....................C=0.5, degree=3, kernel=linear; total time=   1.1s\n",
      "[CV] END .....................C=0.5, degree=3, kernel=linear; total time=   2.0s\n",
      "[CV] END .....................C=0.5, degree=3, kernel=linear; total time=   1.9s\n",
      "[CV] END .....................C=0.5, degree=3, kernel=linear; total time=   1.5s\n",
      "[CV] END .....................C=0.5, degree=3, kernel=linear; total time=   1.2s\n",
      "[CV] END .....................C=0.5, degree=3, kernel=linear; total time=   1.4s\n",
      "[CV] END .....................C=0.5, degree=3, kernel=linear; total time=   1.5s\n",
      "[CV] END .....................C=0.5, degree=3, kernel=linear; total time=   1.3s\n",
      "[CV] END .....................C=0.5, degree=3, kernel=linear; total time=   1.2s\n",
      "[CV] END .....................C=0.5, degree=3, kernel=linear; total time=   1.6s\n",
      "[CV] END .......................C=0.5, degree=3, kernel=poly; total time=   1.8s\n",
      "[CV] END .......................C=0.5, degree=3, kernel=poly; total time=   2.5s\n",
      "[CV] END .......................C=0.5, degree=3, kernel=poly; total time=   1.9s\n",
      "[CV] END .......................C=0.5, degree=3, kernel=poly; total time=   1.8s\n",
      "[CV] END .......................C=0.5, degree=3, kernel=poly; total time=   1.8s\n",
      "[CV] END .......................C=0.5, degree=3, kernel=poly; total time=   1.5s\n",
      "[CV] END .......................C=0.5, degree=3, kernel=poly; total time=   1.1s\n",
      "[CV] END .......................C=0.5, degree=3, kernel=poly; total time=   1.4s\n",
      "[CV] END .......................C=0.5, degree=3, kernel=poly; total time=   1.3s\n",
      "[CV] END .......................C=0.5, degree=3, kernel=poly; total time=   1.3s\n",
      "[CV] END .....................C=0.1, degree=1, kernel=linear; total time=   1.2s\n",
      "[CV] END .....................C=0.1, degree=1, kernel=linear; total time=   1.2s\n",
      "[CV] END .....................C=0.1, degree=1, kernel=linear; total time=   1.3s\n",
      "[CV] END .....................C=0.1, degree=1, kernel=linear; total time=   1.1s\n",
      "[CV] END .....................C=0.1, degree=1, kernel=linear; total time=   1.1s\n",
      "[CV] END .....................C=0.1, degree=1, kernel=linear; total time=   1.1s\n",
      "[CV] END .....................C=0.1, degree=1, kernel=linear; total time=   1.1s\n",
      "[CV] END .....................C=0.1, degree=1, kernel=linear; total time=   1.1s\n",
      "[CV] END .....................C=0.1, degree=1, kernel=linear; total time=   1.1s\n",
      "[CV] END .....................C=0.1, degree=1, kernel=linear; total time=   1.0s\n",
      "[CV] END .......................C=0.1, degree=1, kernel=poly; total time=   1.0s\n",
      "[CV] END .......................C=0.1, degree=1, kernel=poly; total time=   1.0s\n",
      "[CV] END .......................C=0.1, degree=1, kernel=poly; total time=   1.1s\n",
      "[CV] END .......................C=0.1, degree=1, kernel=poly; total time=   1.2s\n",
      "[CV] END .......................C=0.1, degree=1, kernel=poly; total time=   1.3s\n",
      "[CV] END .......................C=0.1, degree=1, kernel=poly; total time=   1.2s\n",
      "[CV] END .......................C=0.1, degree=1, kernel=poly; total time=   1.1s\n",
      "[CV] END .......................C=0.1, degree=1, kernel=poly; total time=   1.0s\n",
      "[CV] END .......................C=0.1, degree=1, kernel=poly; total time=   1.0s\n",
      "[CV] END .......................C=0.1, degree=1, kernel=poly; total time=   1.0s\n",
      "[CV] END .....................C=0.1, degree=2, kernel=linear; total time=   1.1s\n",
      "[CV] END .....................C=0.1, degree=2, kernel=linear; total time=   1.1s\n",
      "[CV] END .....................C=0.1, degree=2, kernel=linear; total time=   1.3s\n",
      "[CV] END .....................C=0.1, degree=2, kernel=linear; total time=   1.2s\n",
      "[CV] END .....................C=0.1, degree=2, kernel=linear; total time=   1.1s\n",
      "[CV] END .....................C=0.1, degree=2, kernel=linear; total time=   1.2s\n",
      "[CV] END .....................C=0.1, degree=2, kernel=linear; total time=   1.3s\n",
      "[CV] END .....................C=0.1, degree=2, kernel=linear; total time=   1.3s\n",
      "[CV] END .....................C=0.1, degree=2, kernel=linear; total time=   1.2s\n",
      "[CV] END .....................C=0.1, degree=2, kernel=linear; total time=   1.1s\n",
      "[CV] END .......................C=0.1, degree=2, kernel=poly; total time=   1.1s\n",
      "[CV] END .......................C=0.1, degree=2, kernel=poly; total time=   1.2s\n",
      "[CV] END .......................C=0.1, degree=2, kernel=poly; total time=   1.0s\n",
      "[CV] END .......................C=0.1, degree=2, kernel=poly; total time=   1.0s\n",
      "[CV] END .......................C=0.1, degree=2, kernel=poly; total time=   1.0s\n",
      "[CV] END .......................C=0.1, degree=2, kernel=poly; total time=   1.1s\n",
      "[CV] END .......................C=0.1, degree=2, kernel=poly; total time=   1.0s\n",
      "[CV] END .......................C=0.1, degree=2, kernel=poly; total time=   1.1s\n",
      "[CV] END .......................C=0.1, degree=2, kernel=poly; total time=   1.1s\n",
      "[CV] END .......................C=0.1, degree=2, kernel=poly; total time=   1.1s\n",
      "[CV] END .....................C=0.1, degree=3, kernel=linear; total time=   1.2s\n",
      "[CV] END .....................C=0.1, degree=3, kernel=linear; total time=   1.2s\n",
      "[CV] END .....................C=0.1, degree=3, kernel=linear; total time=   1.4s\n",
      "[CV] END .....................C=0.1, degree=3, kernel=linear; total time=   1.1s\n",
      "[CV] END .....................C=0.1, degree=3, kernel=linear; total time=   1.0s\n",
      "[CV] END .....................C=0.1, degree=3, kernel=linear; total time=   1.0s\n",
      "[CV] END .....................C=0.1, degree=3, kernel=linear; total time=   1.1s\n",
      "[CV] END .....................C=0.1, degree=3, kernel=linear; total time=   1.5s\n",
      "[CV] END .....................C=0.1, degree=3, kernel=linear; total time=   1.3s\n",
      "[CV] END .....................C=0.1, degree=3, kernel=linear; total time=   1.2s\n",
      "[CV] END .......................C=0.1, degree=3, kernel=poly; total time=   1.2s\n",
      "[CV] END .......................C=0.1, degree=3, kernel=poly; total time=   1.4s\n",
      "[CV] END .......................C=0.1, degree=3, kernel=poly; total time=   1.5s\n",
      "[CV] END .......................C=0.1, degree=3, kernel=poly; total time=   1.5s\n",
      "[CV] END .......................C=0.1, degree=3, kernel=poly; total time=   1.3s\n",
      "[CV] END .......................C=0.1, degree=3, kernel=poly; total time=   1.1s\n",
      "[CV] END .......................C=0.1, degree=3, kernel=poly; total time=   1.1s\n",
      "[CV] END .......................C=0.1, degree=3, kernel=poly; total time=   1.1s\n",
      "[CV] END .......................C=0.1, degree=3, kernel=poly; total time=   1.1s\n",
      "[CV] END .......................C=0.1, degree=3, kernel=poly; total time=   1.1s\n",
      "Best-performing hyperparameters:\n",
      "{'C': 1, 'degree': 1, 'kernel': 'poly'}\n",
      "Time taken: 247.3547396659851\n"
     ]
    }
   ],
   "source": [
    "start = time.time()\n",
    "\n",
    "# Initialize the model\n",
    "clf = svm.SVC(decision_function_shape='ovo', random_state=42)\n",
    "\n",
    "param_grid = {\n",
    "    'C': [ 1,0.5, 0.1],\n",
    "    'kernel': ['linear', 'poly'],\n",
    "    'degree': [1,2,3],\n",
    "}\n",
    "# run grid search\n",
    "grid = GridSearchCV(clf, param_grid, cv=10, scoring='accuracy', verbose=2)\n",
    "grid_search= grid.fit(X_trainS, y_trainS)\n",
    "\n",
    "\n",
    "end = time.time()\n",
    "print(\"Time taken:\", end - start)"
   ]
  },
  {
   "cell_type": "code",
   "execution_count": 139,
   "id": "71b273d5-9136-4d72-bbf6-8cd88e5d3b9a",
   "metadata": {},
   "outputs": [
    {
     "name": "stdout",
     "output_type": "stream",
     "text": [
      "{'C': 1, 'degree': 1, 'kernel': 'poly'}\n"
     ]
    }
   ],
   "source": [
    "print(grid.best_params_)"
   ]
  },
  {
   "cell_type": "code",
   "execution_count": 140,
   "id": "233dc7ab-85f0-441d-afdc-e4a2f645a03e",
   "metadata": {},
   "outputs": [
    {
     "name": "stdout",
     "output_type": "stream",
     "text": [
      "Accuracy: 0.5098039215686274\n",
      "Time taken: 0.6535894870758057\n"
     ]
    }
   ],
   "source": [
    "start = time.time()\n",
    "\n",
    "\n",
    "clf_SVC = grid.best_estimator_\n",
    "\n",
    "\n",
    "y_predS = clf_SVC.predict(X_testS)\n",
    "\n",
    "# Evaluate the model on the test data\n",
    "accuracy = clf_SVC.score(X_testS, y_testS)\n",
    "print(\"Accuracy:\", accuracy)\n",
    "\n",
    "end = time.time()\n",
    "print(\"Time taken:\", end - start)"
   ]
  },
  {
   "cell_type": "code",
   "execution_count": 141,
   "id": "0ce5ae28-0ed8-45a9-af06-23263d8a5318",
   "metadata": {},
   "outputs": [
    {
     "data": {
      "image/png": "[encoded data removed]",
      "text/plain": [
       "<Figure size 640x480 with 2 Axes>"
      ]
     },
     "metadata": {},
     "output_type": "display_data"
    }
   ],
   "source": [
    "confusion_matrix = metrics.confusion_matrix(y_testS, y_predS)\n",
    "\n",
    "cm_display = metrics.ConfusionMatrixDisplay(confusion_matrix = confusion_matrix, display_labels = [0, 1])\n",
    "\n",
    "cm_display.plot()\n",
    "plt.show()"
   ]
  },
  {
   "attachments": {},
   "cell_type": "markdown",
   "id": "026fe8a4-85d7-40cf-9a05-54636a3d8599",
   "metadata": {},
   "source": [
    "# 7) Model 3: CNN\n",
    "\n",
    "We need to re-import the data so that it does not get reshaped into a row vector. "
   ]
  },
  {
   "cell_type": "code",
   "execution_count": 2,
   "id": "458b4150-b832-4d3c-9c94-bad305d88f86",
   "metadata": {},
   "outputs": [
    {
     "data": {
      "text/plain": [
       "<matplotlib.image.AxesImage at 0x247dc23a8e0>"
      ]
     },
     "execution_count": 2,
     "metadata": {},
     "output_type": "execute_result"
    },
    {
     "data": {
      "image/png": "[encoded data removed]",
      "text/plain": [
       "<Figure size 640x480 with 1 Axes>"
      ]
     },
     "metadata": {},
     "output_type": "display_data"
    }
   ],
   "source": [
    "# containment folder of the image data\n",
    "filenames=os.listdir(r\"C:\\Users\\CK\\Desktop\\DATA4010 Project\\Old Tests\\Winter 2023\\Winter2023\\Q9\\ResizedQ9\")\n",
    "\n",
    "sample=random.choice(filenames)# pick any image\n",
    "\n",
    "# file path of the image data folder, keep the \\\\\n",
    "image=tf.keras.utils.load_img(r\"C:\\Users\\CK\\Desktop\\DATA4010 Project\\Old Tests\\Winter 2023\\Winter2023\\Q9\\ResizedQ9\\\\\"+sample)\n",
    "plt.imshow(image)# show the image importation works!"
   ]
  },
  {
   "cell_type": "code",
   "execution_count": 3,
   "id": "f658f1a8-69e0-4f5b-aad8-00774bbf162f",
   "metadata": {},
   "outputs": [
    {
     "name": "stdout",
     "output_type": "stream",
     "text": [
      "Model: \"sequential\"\n",
      "_________________________________________________________________\n",
      " Layer (type)                Output Shape              Param #   \n",
      "=================================================================\n",
      " conv2d (Conv2D)             (None, 496, 636, 32)      832       \n",
      "                                                                 \n",
      " max_pooling2d (MaxPooling2D  (None, 248, 318, 32)     0         \n",
      " )                                                               \n",
      "                                                                 \n",
      " dropout (Dropout)           (None, 248, 318, 32)      0         \n",
      "                                                                 \n",
      " conv2d_1 (Conv2D)           (None, 244, 314, 64)      51264     \n",
      "                                                                 \n",
      " max_pooling2d_1 (MaxPooling  (None, 122, 157, 64)     0         \n",
      " 2D)                                                             \n",
      "                                                                 \n",
      " dropout_1 (Dropout)         (None, 122, 157, 64)      0         \n",
      "                                                                 \n",
      " flatten (Flatten)           (None, 1225856)           0         \n",
      "                                                                 \n",
      " dense (Dense)               (None, 32)                39227424  \n",
      "                                                                 \n",
      " dropout_2 (Dropout)         (None, 32)                0         \n",
      "                                                                 \n",
      " dense_1 (Dense)             (None, 2)                 66        \n",
      "                                                                 \n",
      "=================================================================\n",
      "Total params: 39,279,586\n",
      "Trainable params: 39,279,586\n",
      "Non-trainable params: 0\n",
      "_________________________________________________________________\n",
      "0.5252265930175781\n"
     ]
    }
   ],
   "source": [
    "start=time.time()\n",
    "model2D= Sequential()#define the model\n",
    "\n",
    "# input layer\n",
    "model2D.add(Conv2D(32, (5,5), activation='relu', input_shape=(500,640,1)))\n",
    "model2D.add(MaxPooling2D(pool_size=(2,2)))\n",
    "model2D.add(Dropout(0.25))\n",
    "\n",
    "# hidden layer\n",
    "model2D.add(Conv2D(64, (5,5), activation='relu'))\n",
    "model2D.add(MaxPooling2D(pool_size=(2,2)))\n",
    "model2D.add(Dropout(0.25))\n",
    "\n",
    "# output layer\n",
    "model2D.add(Flatten())\n",
    "model2D.add(Dense(32, activation='relu'))\n",
    "model2D.add(Dropout(0.5))\n",
    "model2D.add(Dense(2,activation='softmax'))# give number of classes\n",
    "\n",
    "model2D.compile(loss='sparse_categorical_crossentropy', optimizer='Adam',metrics=['accuracy'])\n",
    "\n",
    "model2D.summary()\n",
    "\n",
    "end=time.time()\n",
    "\n",
    "print(end-start)"
   ]
  },
  {
   "cell_type": "code",
   "execution_count": 30,
   "id": "502a4a20-233f-4456-9cf7-6c1d49b7fb4e",
   "metadata": {
    "scrolled": true
   },
   "outputs": [],
   "source": [
    "# put the data files into a dataset\n",
    "filepaths=[]\n",
    "# file path of the folder containing the images\n",
    "source_dir=r\"C:\\Users\\CK\\Desktop\\DATA4010 Project\\Old Tests\\Winter 2023\\Winter2023\\Q9\\ResizedQ9\"\n",
    "filelist=os.listdir(source_dir)# get list of file paths\n",
    "for f in filelist: # add all the file paths into a dataframe\n",
    "    fpath=os.path.join(source_dir,f)\n",
    "    filepaths.append(fpath)\n",
    "\n",
    "\n",
    "# this function loads the images into a dataset\n",
    "def preprocess_images(filepaths, target_size=(500, 640)):\n",
    "    images = []\n",
    "    for filepath in filepaths: #load each image into a dataset\n",
    "        if os.path.exists(filepath):\n",
    "            img = load_img(filepath, target_size=target_size, color_mode='grayscale')\n",
    "            img_array = img_to_array(img) / 255.0  # Normalize pixel values\n",
    "            images.append(img_array)\n",
    "        else:# make sure all image files exist\n",
    "            print(f\"File not found: {filepath}\")\n",
    "    return np.array(images)\n",
    "\n",
    "\n",
    "img_data = preprocess_images(filepaths)"
   ]
  },
  {
   "cell_type": "code",
   "execution_count": 33,
   "id": "9e862bdf-4c26-48bb-adca-05d0287c2efb",
   "metadata": {},
   "outputs": [],
   "source": [
    "X_trainC,X_testC,y_trainC,y_testC=train_test_split(img_data,target,  \n",
    "                                                   test_size=0.2, random_state=69)\n",
    "\n",
    "# split into train and validation sets\n",
    "train_data,validation_data, train_y,validation_y=train_test_split(X_trainC,y_trainC, \n",
    "                                                                  test_size=0.2, random_state=69)"
   ]
  },
  {
   "cell_type": "code",
   "execution_count": 9,
   "id": "cb39388d-0b6c-4d51-8331-430e153e05b4",
   "metadata": {
    "scrolled": true
   },
   "outputs": [
    {
     "name": "stdout",
     "output_type": "stream",
     "text": [
      "Epoch 1/50\n",
      "11/11 [==============================] - 127s 10s/step - loss: 12.3297 - accuracy: 0.8129 - val_loss: 0.6813 - val_accuracy: 0.8293\n",
      "Epoch 2/50\n",
      "11/11 [==============================] - 107s 10s/step - loss: 1.0241 - accuracy: 0.8804 - val_loss: 0.6182 - val_accuracy: 0.8293\n",
      "Epoch 3/50\n",
      "11/11 [==============================] - 128s 11s/step - loss: 0.5608 - accuracy: 0.8804 - val_loss: 0.5516 - val_accuracy: 0.8293\n",
      "Epoch 4/50\n",
      "11/11 [==============================] - 152s 14s/step - loss: 0.4047 - accuracy: 0.8804 - val_loss: 0.5132 - val_accuracy: 0.8293\n",
      "Epoch 5/50\n",
      "11/11 [==============================] - 106s 10s/step - loss: 0.3660 - accuracy: 0.8804 - val_loss: 0.4779 - val_accuracy: 0.8293\n",
      "Epoch 6/50\n",
      "11/11 [==============================] - 114s 10s/step - loss: 0.3411 - accuracy: 0.8834 - val_loss: 0.4877 - val_accuracy: 0.8293\n",
      "Epoch 7/50\n",
      "11/11 [==============================] - 112s 10s/step - loss: 0.3458 - accuracy: 0.8804 - val_loss: 0.5196 - val_accuracy: 0.8293\n",
      "Epoch 8/50\n",
      "11/11 [==============================] - 114s 11s/step - loss: 0.3117 - accuracy: 0.8896 - val_loss: 0.5952 - val_accuracy: 0.8293\n",
      "Epoch 9/50\n",
      "11/11 [==============================] - 122s 11s/step - loss: 0.3030 - accuracy: 0.8988 - val_loss: 0.5808 - val_accuracy: 0.8293\n",
      "Epoch 10/50\n",
      "11/11 [==============================] - 101s 9s/step - loss: 0.3021 - accuracy: 0.8896 - val_loss: 0.6239 - val_accuracy: 0.8293\n",
      "Epoch 11/50\n",
      "11/11 [==============================] - 112s 10s/step - loss: 0.3101 - accuracy: 0.8896 - val_loss: 0.5773 - val_accuracy: 0.8293\n",
      "Epoch 12/50\n",
      "11/11 [==============================] - 113s 10s/step - loss: 0.3131 - accuracy: 0.8834 - val_loss: 0.6126 - val_accuracy: 0.8293\n",
      "Epoch 13/50\n",
      "11/11 [==============================] - 113s 10s/step - loss: 0.3250 - accuracy: 0.8834 - val_loss: 0.6980 - val_accuracy: 0.8293\n",
      "Epoch 14/50\n",
      "11/11 [==============================] - 113s 10s/step - loss: 0.3007 - accuracy: 0.8957 - val_loss: 0.7427 - val_accuracy: 0.8171\n",
      "Epoch 15/50\n",
      "11/11 [==============================] - 113s 10s/step - loss: 0.2811 - accuracy: 0.8988 - val_loss: 0.7691 - val_accuracy: 0.8171\n",
      "Epoch 16/50\n",
      "11/11 [==============================] - 94s 8s/step - loss: 0.2817 - accuracy: 0.8896 - val_loss: 0.7774 - val_accuracy: 0.8171\n",
      "Epoch 17/50\n",
      "11/11 [==============================] - 119s 11s/step - loss: 0.2894 - accuracy: 0.8865 - val_loss: 0.8252 - val_accuracy: 0.8171\n",
      "Epoch 18/50\n",
      "11/11 [==============================] - 123s 11s/step - loss: 0.2818 - accuracy: 0.8896 - val_loss: 0.7537 - val_accuracy: 0.8171\n",
      "Epoch 19/50\n",
      "11/11 [==============================] - 115s 11s/step - loss: 0.2818 - accuracy: 0.8773 - val_loss: 0.7531 - val_accuracy: 0.8171\n",
      "Epoch 20/50\n",
      "11/11 [==============================] - 106s 10s/step - loss: 0.2827 - accuracy: 0.8926 - val_loss: 0.8017 - val_accuracy: 0.8171\n",
      "Epoch 21/50\n",
      "11/11 [==============================] - 116s 11s/step - loss: 0.2845 - accuracy: 0.8865 - val_loss: 0.8139 - val_accuracy: 0.8171\n",
      "Epoch 22/50\n",
      "11/11 [==============================] - 108s 10s/step - loss: 0.2661 - accuracy: 0.8926 - val_loss: 0.9070 - val_accuracy: 0.8171\n",
      "Epoch 23/50\n",
      "11/11 [==============================] - 100s 9s/step - loss: 0.2492 - accuracy: 0.8988 - val_loss: 1.0759 - val_accuracy: 0.8171\n",
      "Epoch 24/50\n",
      "11/11 [==============================] - 115s 11s/step - loss: 0.2391 - accuracy: 0.8988 - val_loss: 1.0689 - val_accuracy: 0.8171\n",
      "Epoch 25/50\n",
      "11/11 [==============================] - 119s 11s/step - loss: 0.2553 - accuracy: 0.8926 - val_loss: 1.0206 - val_accuracy: 0.8049\n",
      "Epoch 26/50\n",
      "11/11 [==============================] - 127s 12s/step - loss: 0.2431 - accuracy: 0.8988 - val_loss: 0.9633 - val_accuracy: 0.8049\n",
      "Epoch 27/50\n",
      "11/11 [==============================] - 97s 9s/step - loss: 0.2556 - accuracy: 0.8988 - val_loss: 1.0265 - val_accuracy: 0.8049\n",
      "Epoch 28/50\n",
      "11/11 [==============================] - 103s 9s/step - loss: 0.2189 - accuracy: 0.8988 - val_loss: 1.2271 - val_accuracy: 0.8049\n",
      "Epoch 29/50\n",
      "11/11 [==============================] - 79s 7s/step - loss: 0.2240 - accuracy: 0.8926 - val_loss: 1.0996 - val_accuracy: 0.8049\n",
      "Epoch 30/50\n",
      "11/11 [==============================] - 104s 10s/step - loss: 0.2098 - accuracy: 0.8896 - val_loss: 1.3258 - val_accuracy: 0.8049\n",
      "Epoch 31/50\n",
      "11/11 [==============================] - 114s 11s/step - loss: 0.2046 - accuracy: 0.8865 - val_loss: 1.2532 - val_accuracy: 0.8049\n",
      "Epoch 32/50\n",
      "11/11 [==============================] - 100s 9s/step - loss: 0.1728 - accuracy: 0.8957 - val_loss: 1.2899 - val_accuracy: 0.8049\n",
      "Epoch 33/50\n",
      "11/11 [==============================] - 83s 7s/step - loss: 0.1788 - accuracy: 0.8957 - val_loss: 1.7668 - val_accuracy: 0.8171\n",
      "Epoch 34/50\n",
      "11/11 [==============================] - 121s 11s/step - loss: 0.1935 - accuracy: 0.8957 - val_loss: 1.1088 - val_accuracy: 0.8049\n",
      "Epoch 35/50\n",
      "11/11 [==============================] - 106s 10s/step - loss: 0.2258 - accuracy: 0.8926 - val_loss: 1.1751 - val_accuracy: 0.8049\n",
      "Epoch 36/50\n",
      "11/11 [==============================] - 104s 10s/step - loss: 0.1891 - accuracy: 0.9110 - val_loss: 1.3990 - val_accuracy: 0.8049\n",
      "Epoch 37/50\n",
      "11/11 [==============================] - 108s 10s/step - loss: 0.1637 - accuracy: 0.8957 - val_loss: 1.5117 - val_accuracy: 0.8049\n",
      "Epoch 38/50\n",
      "11/11 [==============================] - 115s 11s/step - loss: 0.1275 - accuracy: 0.9141 - val_loss: 2.0097 - val_accuracy: 0.8171\n",
      "Epoch 39/50\n",
      "11/11 [==============================] - 103s 9s/step - loss: 0.1919 - accuracy: 0.9049 - val_loss: 1.1520 - val_accuracy: 0.8049\n",
      "Epoch 40/50\n",
      "11/11 [==============================] - 122s 12s/step - loss: 0.2255 - accuracy: 0.8896 - val_loss: 1.1908 - val_accuracy: 0.8049\n",
      "Epoch 41/50\n",
      "11/11 [==============================] - 104s 10s/step - loss: 0.1776 - accuracy: 0.9141 - val_loss: 1.5359 - val_accuracy: 0.8049\n",
      "Epoch 42/50\n",
      "11/11 [==============================] - 107s 10s/step - loss: 0.1265 - accuracy: 0.9110 - val_loss: 2.2362 - val_accuracy: 0.8171\n",
      "Epoch 43/50\n",
      "11/11 [==============================] - 126s 11s/step - loss: 0.2520 - accuracy: 0.8988 - val_loss: 0.9999 - val_accuracy: 0.8049\n",
      "Epoch 44/50\n",
      "11/11 [==============================] - 87s 8s/step - loss: 0.2483 - accuracy: 0.8957 - val_loss: 1.0750 - val_accuracy: 0.8171\n",
      "Epoch 45/50\n",
      "11/11 [==============================] - 110s 10s/step - loss: 0.2507 - accuracy: 0.8834 - val_loss: 1.0473 - val_accuracy: 0.8171\n",
      "Epoch 46/50\n",
      "11/11 [==============================] - 109s 10s/step - loss: 0.2232 - accuracy: 0.8957 - val_loss: 1.0765 - val_accuracy: 0.8171\n",
      "Epoch 47/50\n",
      "11/11 [==============================] - 103s 9s/step - loss: 0.2303 - accuracy: 0.8896 - val_loss: 1.1699 - val_accuracy: 0.8049\n",
      "Epoch 48/50\n",
      "11/11 [==============================] - 95s 9s/step - loss: 0.1978 - accuracy: 0.8957 - val_loss: 1.2616 - val_accuracy: 0.8049\n",
      "Epoch 49/50\n",
      "11/11 [==============================] - 99s 9s/step - loss: 0.1836 - accuracy: 0.9049 - val_loss: 1.3609 - val_accuracy: 0.8171\n",
      "Epoch 50/50\n",
      "11/11 [==============================] - 96s 9s/step - loss: 0.1559 - accuracy: 0.9018 - val_loss: 1.7284 - val_accuracy: 0.8171\n",
      "5490.432437181473\n"
     ]
    }
   ],
   "source": [
    "#fit the model\n",
    "epochs=50\n",
    "\n",
    "start=time.time()\n",
    "\n",
    "history=model2D.fit(train_data,train_y, epochs=epochs,\n",
    "                    validation_data=(validation_data,validation_y))\n",
    "\n",
    "end=time.time()\n",
    "\n",
    "print(end-start)"
   ]
  },
  {
   "cell_type": "code",
   "execution_count": 10,
   "id": "914666b8-a895-4460-bbe1-0407b90db4e4",
   "metadata": {},
   "outputs": [
    {
     "name": "stdout",
     "output_type": "stream",
     "text": [
      "4/4 [==============================] - 5s 1s/step\n",
      "4/4 [==============================] - 4s 1s/step - loss: 1.3134 - accuracy: 0.8058\n"
     ]
    },
    {
     "data": {
      "text/plain": [
       "[1.3133502006530762, 0.8058252334594727]"
      ]
     },
     "execution_count": 10,
     "metadata": {},
     "output_type": "execute_result"
    }
   ],
   "source": [
    "#get matetrics\n",
    "prediction=model2D.predict(X_testC)\n",
    "\n",
    "model2D.evaluate(X_testC, y_testC)"
   ]
  },
  {
   "cell_type": "code",
   "execution_count": 17,
   "id": "1ce8055f-24fb-4462-974b-d6ab1107f3e9",
   "metadata": {},
   "outputs": [
    {
     "name": "stdout",
     "output_type": "stream",
     "text": [
      "4/4 [==============================] - 4s 845ms/step\n"
     ]
    },
    {
     "data": {
      "image/png": "[encoded data removed]",
      "text/plain": [
       "<Figure size 640x480 with 2 Axes>"
      ]
     },
     "metadata": {},
     "output_type": "display_data"
    }
   ],
   "source": [
    "pred_x = model2D.predict(X_testC)\n",
    "pred_y = np.argmax(prediction, axis=1)#predict the class with the highest probability of membership\n",
    "\n",
    "confusion_matrix = confusion_matrix(y_testC, pred_y)\n",
    "\n",
    "cm_display = ConfusionMatrixDisplay(confusion_matrix = confusion_matrix, display_labels = [0, 1])\n",
    "\n",
    "cm_display.plot()\n",
    "plt.show() \n"
   ]
  },
  {
   "cell_type": "markdown",
   "id": "7a7f8be0-39dc-469a-bc4f-c6c62f18f27c",
   "metadata": {},
   "source": [
    "# 8) Model 4: LLMs\n",
    "These tests are very repetitive and also cost money to run, so we will just show one example of a binary classification problem with no training and 5 training examples and the multi-class problem with no training and 5 training examples. The API Key will be omitted, as it directly links to my account. All tests shown here were done on Q1 of the mock exam."
   ]
  },
  {
   "cell_type": "code",
   "execution_count": 2,
   "id": "03bf1613-0ff0-4284-8c72-b52bfbd99e8f",
   "metadata": {},
   "outputs": [],
   "source": [
    "client=OpenAI(api_key='')# Put your unique API key in the quoations"
   ]
  },
  {
   "cell_type": "markdown",
   "id": "af1fa8e2-0bbe-4fd0-ba27-cc951e10e381",
   "metadata": {},
   "source": [
    "## No Training Binary"
   ]
  },
  {
   "cell_type": "code",
   "execution_count": 35,
   "id": "21242c5b-d2b3-4bcd-9d8e-43310f0ea155",
   "metadata": {},
   "outputs": [],
   "source": [
    "# spreadsheed with the LaTeX code data for question\n",
    "written_data=pd.read_excel(r\"C:\\Users\\CK\\Desktop\\DATA4010 Project\\Q1 iPad Data.xlsx\")\n",
    "\n",
    "w_data=written_data[\"Data\"][:100]# keep classes 0, 2\n",
    "\n",
    "# add a dummy character to empty values so tests can all be graded\n",
    "w_data=['.' if x is np.nan else x for x in w_data]\n",
    "\n",
    "target_w=written_data[\"Target\"][:100]# just take the first 2 classes\n",
    "target_w[50:]=target_w[50:]-1# change the class from 2 to 1\n",
    "\n",
    "w_data = np.array(w_data)# ensure it is a numpy array for shuffling\n",
    "target_w = np.array(target_w)\n",
    "\n",
    "\n",
    "num_samp=len(w_data)\n",
    "# random permutation since we have no training data we can't do train-test split\n",
    "random_indices = np.random.permutation(num_samp)\n",
    "X_test=w_data[random_indices]\n",
    "y_test=target_w[random_indices]"
   ]
  },
  {
   "cell_type": "code",
   "execution_count": 44,
   "id": "7e628eb6-c0d5-45d1-93f6-456bd028ba5c",
   "metadata": {},
   "outputs": [],
   "source": [
    "# create prompt\n",
    "instructions='''\n",
    "respond with 0 for a wrong answer and 1 for a right answer, only answer with 0 or 1, the question is: \n",
    "Determine $\\\\lim _{x \\rightarrow \\\\infty} \\x0crac{x+\\\\pi \\\\sin (2 x)}{3 x+\\\\sqrt{x}+4}$. \n",
    "'''\n",
    "additional='''\n",
    "Each content has 10 answers, each separated by the pipe symbol. \n",
    "Please provide 10 answers for each, separated by a comma\n",
    "'''\n",
    "\n",
    "instructions=instructions+additional"
   ]
  },
  {
   "cell_type": "code",
   "execution_count": 12,
   "id": "27c15af3-91d5-4826-89a4-192293edb8c6",
   "metadata": {},
   "outputs": [],
   "source": [
    "# combine the strings\n",
    "combined_strings = []\n",
    "for i in range(0, len(X_test), 10):# need to do 10 so that each iteration has the same number of solutions\n",
    "    # concatenate groups of 10 strings and append to the combined strings list\n",
    "    combined_string = ' | '.join(X_test[i:i+10])\n",
    "    combined_strings.append(combined_string)\n",
    "\n"
   ]
  },
  {
   "cell_type": "code",
   "execution_count": 6,
   "id": "46791d17-73ea-4986-a9ea-37e8fdc04809",
   "metadata": {},
   "outputs": [
    {
     "name": "stdout",
     "output_type": "stream",
     "text": [
      "1\n",
      "2\n",
      "3\n",
      "4\n",
      "5\n",
      "6\n",
      "7\n",
      "8\n",
      "9\n",
      "10\n",
      "17.737219095230103 seconds\n"
     ]
    }
   ],
   "source": [
    "Q1_no_train=[] # create a variable to store the grades\n",
    "val=0\n",
    "start=time.time()\n",
    "for dat in combined_strings:# loop through testing data\n",
    "    \n",
    "    val=val+1\n",
    "    print(val)# tracker to ensure loop is working\n",
    "    response = client.chat.completions.create(# this function interfaces with ChatGPT\n",
    "      model=\"gpt-4\", # specify which ChatGPT model you are using\n",
    "      messages=[\n",
    "          {\"role\": \"system\", \"content\": instructions}, # provide the prompt\n",
    "          {\"role\": \"user\", \"content\": dat}, #provide the answers to grade\n",
    "      ]\n",
    "    )\n",
    "    \n",
    "\n",
    "\n",
    "    classification=response.choices[0].message.content # get the grade(s) outputted by the model \n",
    "    Q1_no_train.append(classification) #add the grade(s) to the dataset\n",
    "end=time.time()\n",
    "print(str(end-start) + \" seconds\")"
   ]
  },
  {
   "cell_type": "code",
   "execution_count": 8,
   "id": "48b84ac9-54b8-40f8-bfc4-96bb342882d1",
   "metadata": {},
   "outputs": [
    {
     "name": "stdout",
     "output_type": "stream",
     "text": [
      "100\n"
     ]
    }
   ],
   "source": [
    "answers_Q1 = []\n",
    "\n",
    "for strings in Q1_no_train:\n",
    "    answers_Q1.extend([int(element.strip()) for element in strings.split(',')])\n",
    "    \n",
    "print(len(answers_Q1))# check if the correct number of values were outputted"
   ]
  },
  {
   "cell_type": "code",
   "execution_count": 9,
   "id": "24c4b2f4-fe38-4cf3-b6a1-07e86d71b214",
   "metadata": {},
   "outputs": [
    {
     "data": {
      "image/png": "[encoded data removed]",
      "text/plain": [
       "<Figure size 640x480 with 2 Axes>"
      ]
     },
     "metadata": {},
     "output_type": "display_data"
    }
   ],
   "source": [
    "confusion_matrix = metrics.confusion_matrix(y_test, answers_Q1)\n",
    "\n",
    "cm_display = metrics.ConfusionMatrixDisplay(confusion_matrix = confusion_matrix, display_labels = [0, 1])\n",
    "\n",
    "cm_display.plot()\n",
    "plt.show() "
   ]
  },
  {
   "cell_type": "markdown",
   "id": "e5d0ef8f-9e93-487c-9c47-5e6d538a644a",
   "metadata": {},
   "source": [
    "## 5 Training per Class"
   ]
  },
  {
   "cell_type": "code",
   "execution_count": 37,
   "id": "16df5c40-edb6-4657-a11a-c10691314d17",
   "metadata": {},
   "outputs": [],
   "source": [
    "# adjust test size to include more or less training data\n",
    "X_train_5, X_test_5, y_train_5, y_test_5 = train_test_split(w_data, target_w, test_size=90, \n",
    "                                                            stratify=target_w, random_state=42) "
   ]
  },
  {
   "cell_type": "code",
   "execution_count": 43,
   "id": "5fab03a6-7a9e-49ad-a567-e3f47b26cb72",
   "metadata": {},
   "outputs": [
    {
     "data": {
      "text/plain": [
       "'\\nrespond with 0 for a wrong answer and 1 for a right answer, only answer with 0 or 1, the question is: \\nDetermine $\\\\lim _{x \\rightarrow \\\\infty} \\x0crac{x+\\\\pi \\\\sin (2 x)}{3 x+\\\\sqrt{x}+4}$. Here are some examples:\\nthe limit is 0, scores a 0, $$\\n=0\\n$$, scores a 0, ., scores a 0, $$\\n\\\\begin{gathered}\\n\\\\lim _{x \\\\rightarrow \\\\infty} \\\\frac{1+ \\\\pi \\\\frac{\\\\sin (2 x)}{x}}{3+x^{-1 / x}+4 / 3} \\\\\\\\\\n=1 / 3\\n\\\\end{gathered}\\n$$, scores a 1, $$\\n\\\\begin{array}{r}\\n=\\\\lim _{x \\\\rightarrow \\\\infty} \\\\frac{x+\\\\pi \\\\sin (2 x)}{3 x+\\\\sqrt{x}+4} \\\\\\\\\\n=\\\\lim _{x \\\\rightarrow \\\\infty} \\\\frac{\\\\frac{1+\\\\pi \\\\sin (2 x)}{x}}{3+x^{-1 / 2}+\\\\frac{4}{x}} \\\\\\\\\\n=1 / 3\\n\\\\end{array}\\n$$, scores a 1, $$\\n\\\\begin{gathered}\\n\\\\lim _{x \\\\rightarrow \\\\infty} \\\\frac{x+\\\\pi \\\\sin (2 x)}{3 x+\\\\sqrt{x}+4} \\\\\\\\\\n=\\\\lim _{x \\\\rightarrow \\\\infty} \\\\frac{1+\\\\frac{\\\\pi \\\\sin (2 x)}{x}}{3+x^{-1 / 2}+\\\\frac{4}{x}} \\\\\\\\\\n=1 / 3\\n\\\\end{gathered}\\n$$, scores a 1, $$\\n\\\\begin{aligned}\\n& \\\\lim _{x \\\\rightarrow \\\\infty} \\\\frac{x+\\\\pi \\\\sin (2 x)}{3 x+\\\\sqrt{x}+4} \\\\\\\\\\n= & \\\\lim _{x \\\\rightarrow \\\\infty} \\\\frac{1+\\\\frac{\\\\pi \\\\sin (2 x)}{x}}{3+x^{-1 / 2}+\\\\frac{4}{x}} \\\\\\\\\\n= & 1 / 3\\n\\\\end{aligned}\\n$$, scores a 1, $$\\n\\\\begin{aligned}\\n\\\\lim _{x \\\\rightarrow \\\\infty} \\\\frac{x+\\\\pi \\\\sin (2 x)}{3 x+\\\\sqrt{x}+4} \\\\div x/x \\\\\\\\\\n& =\\\\lim _{x \\\\rightarrow \\\\infty} \\\\frac{1+\\\\pi^{\\\\sin (2 x) / x}}{3+x^{-1 / 2}+4 / x} \\\\\\\\\\n& =1 / 3\\n\\\\end{aligned}\\n$$, scores a 1,    $\\\\quad \\\\lim _{x \\\\rightarrow \\\\infty} \\\\frac{x+\\\\pi \\\\sin (2 x)}{3 x+\\\\sqrt{x}+4}$, scores a 0, $$\\n\\\\begin{aligned}\\n& \\\\lim _{x \\\\rightarrow \\\\infty} \\\\frac{x+\\\\pi \\\\sin (2 x)}{3 x+\\\\sqrt{x}+4} \\\\\\\\\\n& \\\\quad=0\\n\\\\end{aligned}\\n$$, scores a 0, \\nEach content has 10 answers, each separated by the pipe symbol. \\nPlease provide 10 answers for each, separated by a comma\\n'"
      ]
     },
     "execution_count": 43,
     "metadata": {},
     "output_type": "execute_result"
    }
   ],
   "source": [
    "instructions='''\n",
    "respond with 0 for a wrong answer and 1 for a right answer, only answer with 0 or 1, the question is: \n",
    "Determine $\\lim _{x \\rightarrow \\infty} \\frac{x+\\pi \\sin (2 x)}{3 x+\\sqrt{x}+4}$. Here are some examples:\n",
    "'''\n",
    "\n",
    "additional='''\n",
    "Each content has 10 answers, each separated by the pipe symbol. \n",
    "Please provide 10 answers for each, separated by a comma\n",
    "'''\n",
    "\n",
    "# create a string with the training data\n",
    "training_5 = \"\"\n",
    "for i in range(len(X_train_5)):\n",
    "    training_5+=(X_train_5[i] + \", scores a \" +str(y_train_5[i])+ \", \")#add the training data and grade to the string\n",
    "\n",
    "# combine all the strings to create the prompt\n",
    "instructions+=(training_5+additional)\n",
    "instructions\n",
    "\n",
    "# everything after this is essentially the same as the no-training example"
   ]
  },
  {
   "cell_type": "code",
   "execution_count": 15,
   "id": "8d28bdb4-b9e6-45e0-bad2-eaa0e61884ec",
   "metadata": {},
   "outputs": [],
   "source": [
    "combined_strings_5 = []\n",
    "for i in range(0, len(X_test_5), 10):\n",
    "\n",
    "    combined_string = ' | '.join(X_test_5[i:i+10])\n",
    "    combined_strings_5.append(combined_string)\n",
    "\n"
   ]
  },
  {
   "cell_type": "code",
   "execution_count": 22,
   "id": "ad92159a-01bf-4558-ad94-f34ed1742fd1",
   "metadata": {},
   "outputs": [
    {
     "name": "stdout",
     "output_type": "stream",
     "text": [
      "1\n",
      "2\n",
      "3\n",
      "4\n",
      "5\n",
      "6\n",
      "7\n",
      "8\n",
      "9\n",
      "13.7994384765625 seconds\n"
     ]
    }
   ],
   "source": [
    "answers_5combined_shuffled=[]\n",
    "val=0\n",
    "start=time.time()\n",
    "for dat in combined_strings_5:\n",
    "    val=val+1\n",
    "    print(val)# tracker to ensure loop is working\n",
    "    response = client.chat.completions.create(\n",
    "      model=\"gpt-4\",\n",
    "      messages=[\n",
    "          {\"role\": \"system\", \"content\": instructions},\n",
    "          {\"role\": \"user\", \"content\": dat},\n",
    "      ]\n",
    "    )\n",
    "\n",
    "    classification=response.choices[0].message.content\n",
    "    answers_5combined_shuffled.append(classification)\n",
    "end=time.time()\n",
    "\n",
    "print(str(end-start)+ \" seconds\")\n"
   ]
  },
  {
   "cell_type": "code",
   "execution_count": 23,
   "id": "ab15f6d7-ebd8-4f97-8561-3afdd110d698",
   "metadata": {},
   "outputs": [
    {
     "name": "stdout",
     "output_type": "stream",
     "text": [
      "90\n"
     ]
    }
   ],
   "source": [
    "answers_5_shuffled = []\n",
    "\n",
    "for strings in answers_5combined_shuffled:\n",
    "    answers_5_shuffled.extend([int(element.strip()) for element in strings.split(',')])\n",
    "\n",
    "print(len(answers_5_shuffled))"
   ]
  },
  {
   "cell_type": "code",
   "execution_count": 24,
   "id": "34fd072a-06dc-42bb-80f5-3a36f227ff6d",
   "metadata": {},
   "outputs": [
    {
     "data": {
      "image/png": "[encoded data removed]",
      "text/plain": [
       "<Figure size 640x480 with 2 Axes>"
      ]
     },
     "metadata": {},
     "output_type": "display_data"
    }
   ],
   "source": [
    "confusion_matrix = metrics.confusion_matrix(y_test_5, answers_5_shuffled)\n",
    "\n",
    "cm_display = metrics.ConfusionMatrixDisplay(confusion_matrix = confusion_matrix, display_labels = [0, 1])\n",
    "\n",
    "cm_display.plot()\n",
    "plt.show() "
   ]
  },
  {
   "cell_type": "markdown",
   "id": "55b94657-6dd8-47b6-a68a-b6482f292ec6",
   "metadata": {},
   "source": [
    "## 3 Classes"
   ]
  },
  {
   "cell_type": "code",
   "execution_count": 37,
   "id": "58883828-5ff3-47ce-9f9a-64e7e809f296",
   "metadata": {},
   "outputs": [],
   "source": [
    "# dataset with LaTeX code for question\n",
    "written_data=pd.read_excel(r\"C:\\Users\\CK\\Desktop\\DATA4010 Project\\Q1 iPad Data.xlsx\")\n",
    "\n",
    "#include all data\n",
    "w_data=written_data[\"Data\"]\n",
    "w_data=['.' if x is np.nan else x for x in w_data]\n",
    "target_w=written_data[\"Target\"]\n",
    "\n",
    "w_data = np.array(w_data)\n",
    "target_w = np.array(target_w)\n",
    "\n",
    "\n",
    "num_samp=len(w_data)\n",
    "random_indices = np.random.permutation(num_samp)\n",
    "X_test=w_data[random_indices]\n",
    "y_test=target_w[random_indices]\n",
    "\n"
   ]
  },
  {
   "cell_type": "code",
   "execution_count": 38,
   "id": "dca587d8-8b08-43c2-9a52-94fdd1a8f559",
   "metadata": {},
   "outputs": [],
   "source": [
    "combined_strings_all_Q1 = []\n",
    "for i in range(0, len(X_test), 10):\n",
    "    combined_string = '|'.join(w_data[i:i+10])\n",
    "    combined_strings_all_Q1.append(combined_string)\n",
    "# can combine strings for this test only! "
   ]
  },
  {
   "cell_type": "code",
   "execution_count": 40,
   "id": "431e04d8-b2ff-48a0-b685-c54584e5e1dc",
   "metadata": {},
   "outputs": [],
   "source": [
    "# adjusted prompt for 3 classes\n",
    "instructions='''\n",
    "respond with 0 for a wrong answer, 2 for a right answer, and 1 for an answer that is partially correct. \n",
    "Only answer with 0 or 1 or 2, the question is:\n",
    "Determine $\\\\lim _{x \\rightarrow \\\\infty} \\x0crac{x+\\\\pi \\\\sin (2 x)}{3 x+\\\\sqrt{x}+4}$. \n",
    "a 2 must be given when the correct answer, 1/3 is written and \n",
    "a sufficient amount of work is shown, \n",
    "a 1 should be given when either some correct work is shown, \n",
    "or the correct answer is given with no work\n",
    "provided. A 0 should be given when no correct work is shown. \n",
    "Each content has 10 answers, please provide 10 answers for each, separated by a comma\n",
    "'''"
   ]
  },
  {
   "cell_type": "code",
   "execution_count": 40,
   "id": "dd84d6ec-362d-4e41-85e3-9507913b8e73",
   "metadata": {
    "scrolled": true
   },
   "outputs": [
    {
     "name": "stdout",
     "output_type": "stream",
     "text": [
      "1\n",
      "2\n",
      "3\n",
      "4\n",
      "5\n",
      "6\n",
      "7\n",
      "8\n",
      "9\n",
      "10\n",
      "11\n",
      "12\n",
      "13\n",
      "14\n",
      "15\n",
      "21.47511577606201 seconds\n"
     ]
    }
   ],
   "source": [
    "Q1_whole=[]\n",
    "val=0\n",
    "start=time.time()\n",
    "for dat in combined_strings_all_Q1:\n",
    "    \n",
    "    val=val+1\n",
    "    print(val)# tracker to ensure loop is working\n",
    "    response = client.chat.completions.create(\n",
    "      model=\"gpt-4\",\n",
    "      messages=[\n",
    "          {\"role\": \"system\", \"content\": instructions},\n",
    "          {\"role\": \"user\", \"content\": dat},\n",
    "      ]\n",
    "    )\n",
    "    \n",
    "\n",
    "\n",
    "    classification=response.choices[0].message.content\n",
    "    Q1_whole.append(classification)\n",
    "end=time.time()\n",
    "print(str(end-start) + \" seconds\")"
   ]
  },
  {
   "cell_type": "code",
   "execution_count": 41,
   "id": "1ed9e80c-f316-431f-982e-5b8172da60b4",
   "metadata": {},
   "outputs": [
    {
     "name": "stdout",
     "output_type": "stream",
     "text": [
      "150\n"
     ]
    }
   ],
   "source": [
    "answers_Q1 = []\n",
    "\n",
    "for strings in Q1_whole:\n",
    "    answers_Q1.extend([int(element.strip()) for element in strings.split(',')])\n",
    "    \n",
    "print(len(answers_Q1))"
   ]
  },
  {
   "cell_type": "code",
   "execution_count": 42,
   "id": "a3b646fd-7024-4237-bc86-31d771de7dc9",
   "metadata": {},
   "outputs": [
    {
     "data": {
      "image/png": "[encoded data removed]",
      "text/plain": [
       "<Figure size 640x480 with 2 Axes>"
      ]
     },
     "metadata": {},
     "output_type": "display_data"
    }
   ],
   "source": [
    "confusion_matrix = metrics.confusion_matrix(y_test, answers_Q1)\n",
    "\n",
    "cm_display = metrics.ConfusionMatrixDisplay(confusion_matrix = confusion_matrix, display_labels = [0, 1,2])\n",
    "\n",
    "cm_display.plot()\n",
    "plt.show() "
   ]
  },
  {
   "cell_type": "markdown",
   "id": "1c4d7a2d-8e85-42c1-8036-71a0935bf088",
   "metadata": {},
   "source": [
    "## 5 Training Examples per Class"
   ]
  },
  {
   "cell_type": "code",
   "execution_count": 46,
   "id": "440a51ae-7f5b-4525-a13d-c2bf91e1d09e",
   "metadata": {},
   "outputs": [],
   "source": [
    "X_train_5, X_test_5, y_train_5, y_test_5 = train_test_split(w_data, target_w, test_size=135, \n",
    "                                                            stratify=target_w, random_state=42)\n"
   ]
  },
  {
   "cell_type": "code",
   "execution_count": 41,
   "id": "19e98765-8ec7-4ad3-9954-96c0e4505fef",
   "metadata": {
    "scrolled": true
   },
   "outputs": [
    {
     "data": {
      "text/plain": [
       "'\\nrespond with 0 for a wrong answer, 2 for a right answer, and 1 for an answer that is partially correct. \\nOnly answer with 0 or 1 or 2, the question is: \\nDetermine $\\\\lim _{x \\rightarrow \\\\infty} \\x0crac{x+\\\\pi \\\\sin (2 x)}{3 x+\\\\sqrt{x}+4}$. \\na 2 must be given when the correct answer, 1/3 is written and a sufficient amount of work is shown,\\na 1 should be given when either some correct work is shown, or the correct answer is given with no work provided. \\nA 0 should be given when no correct work is shown. The training values are as follows: \\nthe limit is 0, scores a 0, $$\\n=0\\n$$, scores a 0, ., scores a 0, $$\\n\\\\begin{gathered}\\n\\\\lim _{x \\\\rightarrow \\\\infty} \\\\frac{1+ \\\\pi \\\\frac{\\\\sin (2 x)}{x}}{3+x^{-1 / x}+4 / 3} \\\\\\\\\\n=1 / 3\\n\\\\end{gathered}\\n$$, scores a 1, $$\\n\\\\begin{array}{r}\\n=\\\\lim _{x \\\\rightarrow \\\\infty} \\\\frac{x+\\\\pi \\\\sin (2 x)}{3 x+\\\\sqrt{x}+4} \\\\\\\\\\n=\\\\lim _{x \\\\rightarrow \\\\infty} \\\\frac{\\\\frac{1+\\\\pi \\\\sin (2 x)}{x}}{3+x^{-1 / 2}+\\\\frac{4}{x}} \\\\\\\\\\n=1 / 3\\n\\\\end{array}\\n$$, scores a 1, $$\\n\\\\begin{gathered}\\n\\\\lim _{x \\\\rightarrow \\\\infty} \\\\frac{x+\\\\pi \\\\sin (2 x)}{3 x+\\\\sqrt{x}+4} \\\\\\\\\\n=\\\\lim _{x \\\\rightarrow \\\\infty} \\\\frac{1+\\\\frac{\\\\pi \\\\sin (2 x)}{x}}{3+x^{-1 / 2}+\\\\frac{4}{x}} \\\\\\\\\\n=1 / 3\\n\\\\end{gathered}\\n$$, scores a 1, $$\\n\\\\begin{aligned}\\n& \\\\lim _{x \\\\rightarrow \\\\infty} \\\\frac{x+\\\\pi \\\\sin (2 x)}{3 x+\\\\sqrt{x}+4} \\\\\\\\\\n= & \\\\lim _{x \\\\rightarrow \\\\infty} \\\\frac{1+\\\\frac{\\\\pi \\\\sin (2 x)}{x}}{3+x^{-1 / 2}+\\\\frac{4}{x}} \\\\\\\\\\n= & 1 / 3\\n\\\\end{aligned}\\n$$, scores a 1, $$\\n\\\\begin{aligned}\\n\\\\lim _{x \\\\rightarrow \\\\infty} \\\\frac{x+\\\\pi \\\\sin (2 x)}{3 x+\\\\sqrt{x}+4} \\\\div x/x \\\\\\\\\\n& =\\\\lim _{x \\\\rightarrow \\\\infty} \\\\frac{1+\\\\pi^{\\\\sin (2 x) / x}}{3+x^{-1 / 2}+4 / x} \\\\\\\\\\n& =1 / 3\\n\\\\end{aligned}\\n$$, scores a 1,    $\\\\quad \\\\lim _{x \\\\rightarrow \\\\infty} \\\\frac{x+\\\\pi \\\\sin (2 x)}{3 x+\\\\sqrt{x}+4}$, scores a 0, $$\\n\\\\begin{aligned}\\n& \\\\lim _{x \\\\rightarrow \\\\infty} \\\\frac{x+\\\\pi \\\\sin (2 x)}{3 x+\\\\sqrt{x}+4} \\\\\\\\\\n& \\\\quad=0\\n\\\\end{aligned}\\n$$, scores a 0, '"
      ]
     },
     "execution_count": 41,
     "metadata": {},
     "output_type": "execute_result"
    }
   ],
   "source": [
    "instructions_5='''\n",
    "respond with 0 for a wrong answer, 2 for a right answer, and 1 for an answer that is partially correct. \n",
    "Only answer with 0 or 1 or 2, the question is: \n",
    "Determine $\\\\lim _{x \\rightarrow \\\\infty} \\x0crac{x+\\\\pi \\\\sin (2 x)}{3 x+\\\\sqrt{x}+4}$. \n",
    "a 2 must be given when the correct answer, 1/3 is written and a sufficient amount of work is shown,\n",
    "a 1 should be given when either some correct work is shown, or the correct answer is given with no work provided. \n",
    "A 0 should be given when no correct work is shown. The training values are as follows: \n",
    "'''\n",
    "\n",
    "\n",
    "training_5 = \"\"\n",
    "for i in range(len(X_train_5)):\n",
    "    training_5+=(X_train_5[i] + \", scores a \" +str(y_train_5[i])+ \", \")\n",
    "\n",
    "instructions_5+=training_5\n",
    "instructions_5"
   ]
  },
  {
   "cell_type": "code",
   "execution_count": 49,
   "id": "03cecb33-6afe-4c87-9c02-e57b880806cb",
   "metadata": {
    "scrolled": true
   },
   "outputs": [
    {
     "name": "stdout",
     "output_type": "stream",
     "text": [
      "1\n",
      "2\n",
      "3\n",
      "4\n",
      "5\n",
      "6\n",
      "7\n",
      "8\n",
      "9\n",
      "10\n",
      "11\n",
      "12\n",
      "13\n",
      "14\n",
      "15\n",
      "16\n",
      "17\n",
      "18\n",
      "19\n",
      "20\n",
      "21\n",
      "22\n",
      "23\n",
      "24\n",
      "25\n",
      "26\n",
      "27\n",
      "28\n",
      "29\n",
      "30\n",
      "31\n",
      "32\n",
      "33\n",
      "34\n",
      "35\n",
      "36\n",
      "37\n",
      "38\n",
      "39\n",
      "40\n",
      "41\n",
      "42\n",
      "43\n",
      "44\n",
      "45\n",
      "46\n",
      "47\n",
      "48\n",
      "49\n",
      "50\n",
      "51\n",
      "52\n",
      "53\n",
      "54\n",
      "55\n",
      "56\n",
      "57\n",
      "58\n",
      "59\n",
      "60\n",
      "61\n",
      "62\n",
      "63\n",
      "64\n",
      "65\n",
      "66\n",
      "67\n",
      "68\n",
      "69\n",
      "70\n",
      "71\n",
      "72\n",
      "73\n",
      "74\n",
      "75\n",
      "76\n",
      "77\n",
      "78\n",
      "79\n",
      "80\n",
      "81\n",
      "82\n",
      "83\n",
      "84\n",
      "85\n",
      "86\n",
      "87\n",
      "88\n",
      "89\n",
      "90\n",
      "91\n",
      "92\n",
      "93\n",
      "94\n",
      "95\n",
      "96\n",
      "97\n",
      "98\n",
      "99\n",
      "100\n",
      "101\n",
      "102\n",
      "103\n",
      "104\n",
      "105\n",
      "106\n",
      "107\n",
      "108\n",
      "109\n",
      "110\n",
      "111\n",
      "112\n",
      "113\n",
      "114\n",
      "115\n",
      "116\n",
      "117\n",
      "118\n",
      "119\n",
      "120\n",
      "121\n",
      "122\n",
      "123\n",
      "124\n",
      "125\n",
      "126\n",
      "127\n",
      "128\n",
      "129\n",
      "130\n",
      "131\n",
      "132\n",
      "133\n",
      "134\n",
      "135\n",
      "76.40234899520874 seconds\n"
     ]
    }
   ],
   "source": [
    "Q1_whole_5=[]\n",
    "val=0\n",
    "start=time.time()\n",
    "for dat in X_test_5:\n",
    "    \n",
    "    val=val+1\n",
    "    print(val)# tracker to ensure loop is working\n",
    "    response = client.chat.completions.create(\n",
    "      model=\"gpt-4\",\n",
    "      messages=[\n",
    "          {\"role\": \"system\", \"content\": instructions_5},\n",
    "          {\"role\": \"user\", \"content\": dat},\n",
    "      ]\n",
    "    )\n",
    "\n",
    "\n",
    "    classification=response.choices[0].message.content\n",
    "    Q1_whole_5.append(classification)\n",
    "end=time.time()\n",
    "print(str(end-start) + \" seconds\")"
   ]
  },
  {
   "cell_type": "code",
   "execution_count": 51,
   "id": "36d89c24-d7b8-4c6b-af10-4712375f76dd",
   "metadata": {},
   "outputs": [
    {
     "name": "stdout",
     "output_type": "stream",
     "text": [
      "135\n"
     ]
    }
   ],
   "source": [
    "answers_Q1_5 = []\n",
    "\n",
    "for strings in Q1_whole_5:\n",
    "    answers_Q1_5.extend([int(element.strip()) for element in strings.split(',')])\n",
    "    \n",
    "print(len(answers_Q1_5))"
   ]
  },
  {
   "cell_type": "code",
   "execution_count": 52,
   "id": "7924adce-81ad-4929-840e-ff4583dcd166",
   "metadata": {},
   "outputs": [
    {
     "data": {
      "image/png": "[encoded data removed]",
      "text/plain": [
       "<Figure size 640x480 with 2 Axes>"
      ]
     },
     "metadata": {},
     "output_type": "display_data"
    }
   ],
   "source": [
    "confusion_matrix = metrics.confusion_matrix(y_test_5, answers_Q1_5)\n",
    "\n",
    "cm_display = metrics.ConfusionMatrixDisplay(confusion_matrix = confusion_matrix, display_labels = [0, 1,2])\n",
    "\n",
    "cm_display.plot()\n",
    "plt.show() "
   ]
  }
 ],
 "metadata": {
  "kernelspec": {
   "display_name": "Python 3 (ipykernel)",
   "language": "python",
   "name": "python3"
  },
  "language_info": {
   "codemirror_mode": {
    "name": "ipython",
    "version": 3
   },
   "file_extension": ".py",
   "mimetype": "text/x-python",
   "name": "python",
   "nbconvert_exporter": "python",
   "pygments_lexer": "ipython3",
   "version": "3.9.18"
  }
 },
 "nbformat": 4,
 "nbformat_minor": 5
}
